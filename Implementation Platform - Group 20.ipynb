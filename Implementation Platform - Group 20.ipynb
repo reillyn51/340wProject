{
  "cells": [
    {
      "cell_type": "code",
      "execution_count": 3,
      "metadata": {
        "colab": {
          "base_uri": "https://localhost:8080/"
        },
        "id": "9hXKnKl3bcJS",
        "outputId": "f182d45c-207a-4007-a74d-b7df236017ad"
      },
      "outputs": [
        {
          "output_type": "stream",
          "name": "stdout",
          "text": [
            "Mounted at /content/drive\n"
          ]
        }
      ],
      "source": [
        "from google.colab import drive\n",
        "drive.mount('/content/drive')\n"
      ]
    },
    {
      "cell_type": "code",
      "execution_count": 5,
      "metadata": {
        "colab": {
          "base_uri": "https://localhost:8080/"
        },
        "id": "JEg5zfCp9vsg",
        "outputId": "268dac8f-5854-4cdc-d3fd-9db7de9bb915"
      },
      "outputs": [
        {
          "output_type": "stream",
          "name": "stdout",
          "text": [
            "/content/drive/MyDrive\n"
          ]
        }
      ],
      "source": [
        "%cd drive/MyDrive/"
      ]
    },
    {
      "cell_type": "code",
      "execution_count": null,
      "metadata": {
        "colab": {
          "base_uri": "https://localhost:8080/"
        },
        "id": "sCH4--x796Sc",
        "outputId": "e20b9b1b-dc78-446c-d639-1b32231953de"
      },
      "outputs": [
        {
          "name": "stdout",
          "output_type": "stream",
          "text": [
            "/content/drive/MyDrive\n"
          ]
        }
      ],
      "source": [
        "!pwd"
      ]
    },
    {
      "cell_type": "code",
      "execution_count": null,
      "metadata": {
        "colab": {
          "base_uri": "https://localhost:8080/"
        },
        "id": "xeTQbe68oIV4",
        "outputId": "624af307-9fd4-4392-a570-8c78a4c97915"
      },
      "outputs": [
        {
          "name": "stdout",
          "output_type": "stream",
          "text": [
            "Cloning into '340wProject'...\n",
            "remote: Enumerating objects: 254, done.\u001b[K\n",
            "remote: Counting objects: 100% (19/19), done.\u001b[K\n",
            "remote: Compressing objects: 100% (11/11), done.\u001b[K\n",
            "remote: Total 254 (delta 13), reused 8 (delta 8), pack-reused 235\u001b[K\n",
            "Receiving objects: 100% (254/254), 38.15 MiB | 11.07 MiB/s, done.\n",
            "Resolving deltas: 100% (100/100), done.\n",
            "Updating files: 100% (43/43), done.\n"
          ]
        }
      ],
      "source": [
        "!git clone https://github.com/reillyn51/340wProject.git"
      ]
    },
    {
      "cell_type": "code",
      "execution_count": null,
      "metadata": {
        "colab": {
          "base_uri": "https://localhost:8080/"
        },
        "id": "RxD9eLrMoWiK",
        "outputId": "c989d2cb-ce03-4756-c724-06f0411e196b"
      },
      "outputs": [
        {
          "name": "stdout",
          "output_type": "stream",
          "text": [
            "/bin/bash: line 0: cd: drive/MyDrive/: No such file or directory\n"
          ]
        }
      ],
      "source": [
        "!cd drive/MyDrive/"
      ]
    },
    {
      "cell_type": "code",
      "execution_count": 6,
      "metadata": {
        "colab": {
          "base_uri": "https://localhost:8080/",
          "height": 444
        },
        "id": "02D1u_TLobNr",
        "outputId": "a94d1624-d118-4fc1-ded9-9e8d0008d13a"
      },
      "outputs": [
        {
          "output_type": "execute_result",
          "data": {
            "text/plain": [
              "   match_id                   league  match_date    home_team  home_score  \\\n",
              "0    170088  England: Premier League  2005-01-01    Liverpool           0   \n",
              "1    170089  England: Premier League  2005-01-01       Fulham           3   \n",
              "2    170090  England: Premier League  2005-01-01  Aston Villa           1   \n",
              "3    170091  England: Premier League  2005-01-01       Bolton           1   \n",
              "4    170092  England: Premier League  2005-01-01     Charlton           1   \n",
              "\n",
              "        away_team  away_score  avg_odds_home_win  avg_odds_draw  \\\n",
              "0         Chelsea           1             2.9944         3.1944   \n",
              "1  Crystal Palace           1             1.9456         3.2333   \n",
              "2       Blackburn           0             1.8522         3.2611   \n",
              "3       West Brom           1             1.6122         3.4133   \n",
              "4         Arsenal           3             5.9878         3.4778   \n",
              "\n",
              "   avg_odds_away_win  max_odds_home_win  max_odds_draw  max_odds_away_win  \\\n",
              "0             2.2256               3.20           3.25               2.29   \n",
              "1             3.6722               2.04           3.30               4.15   \n",
              "2             4.0144               2.00           3.40               4.50   \n",
              "3             5.4722               1.67           3.57               6.27   \n",
              "4             1.5567               7.00           3.60               1.62   \n",
              "\n",
              "  top_bookie_home_win  top_bookie_draw top_bookie_away_win  n_odds_home_win  \\\n",
              "0         Paddy Power      Sportingbet              Expekt                9   \n",
              "1     Pinnacle Sports      bet-at-home              Expekt                9   \n",
              "2     Pinnacle Sports      Paddy Power         Sportingbet                9   \n",
              "3               Coral  Pinnacle Sports     Pinnacle Sports                9   \n",
              "4              Expekt      Paddy Power              bet365                9   \n",
              "\n",
              "   n_odds_draw  n_odds_away_win  \n",
              "0            9                9  \n",
              "1            9                9  \n",
              "2            9                9  \n",
              "3            9                9  \n",
              "4            9                9  "
            ],
            "text/html": [
              "\n",
              "  <div id=\"df-06c85603-bec6-430c-966b-0c18ca57b052\">\n",
              "    <div class=\"colab-df-container\">\n",
              "      <div>\n",
              "<style scoped>\n",
              "    .dataframe tbody tr th:only-of-type {\n",
              "        vertical-align: middle;\n",
              "    }\n",
              "\n",
              "    .dataframe tbody tr th {\n",
              "        vertical-align: top;\n",
              "    }\n",
              "\n",
              "    .dataframe thead th {\n",
              "        text-align: right;\n",
              "    }\n",
              "</style>\n",
              "<table border=\"1\" class=\"dataframe\">\n",
              "  <thead>\n",
              "    <tr style=\"text-align: right;\">\n",
              "      <th></th>\n",
              "      <th>match_id</th>\n",
              "      <th>league</th>\n",
              "      <th>match_date</th>\n",
              "      <th>home_team</th>\n",
              "      <th>home_score</th>\n",
              "      <th>away_team</th>\n",
              "      <th>away_score</th>\n",
              "      <th>avg_odds_home_win</th>\n",
              "      <th>avg_odds_draw</th>\n",
              "      <th>avg_odds_away_win</th>\n",
              "      <th>max_odds_home_win</th>\n",
              "      <th>max_odds_draw</th>\n",
              "      <th>max_odds_away_win</th>\n",
              "      <th>top_bookie_home_win</th>\n",
              "      <th>top_bookie_draw</th>\n",
              "      <th>top_bookie_away_win</th>\n",
              "      <th>n_odds_home_win</th>\n",
              "      <th>n_odds_draw</th>\n",
              "      <th>n_odds_away_win</th>\n",
              "    </tr>\n",
              "  </thead>\n",
              "  <tbody>\n",
              "    <tr>\n",
              "      <th>0</th>\n",
              "      <td>170088</td>\n",
              "      <td>England: Premier League</td>\n",
              "      <td>2005-01-01</td>\n",
              "      <td>Liverpool</td>\n",
              "      <td>0</td>\n",
              "      <td>Chelsea</td>\n",
              "      <td>1</td>\n",
              "      <td>2.9944</td>\n",
              "      <td>3.1944</td>\n",
              "      <td>2.2256</td>\n",
              "      <td>3.20</td>\n",
              "      <td>3.25</td>\n",
              "      <td>2.29</td>\n",
              "      <td>Paddy Power</td>\n",
              "      <td>Sportingbet</td>\n",
              "      <td>Expekt</td>\n",
              "      <td>9</td>\n",
              "      <td>9</td>\n",
              "      <td>9</td>\n",
              "    </tr>\n",
              "    <tr>\n",
              "      <th>1</th>\n",
              "      <td>170089</td>\n",
              "      <td>England: Premier League</td>\n",
              "      <td>2005-01-01</td>\n",
              "      <td>Fulham</td>\n",
              "      <td>3</td>\n",
              "      <td>Crystal Palace</td>\n",
              "      <td>1</td>\n",
              "      <td>1.9456</td>\n",
              "      <td>3.2333</td>\n",
              "      <td>3.6722</td>\n",
              "      <td>2.04</td>\n",
              "      <td>3.30</td>\n",
              "      <td>4.15</td>\n",
              "      <td>Pinnacle Sports</td>\n",
              "      <td>bet-at-home</td>\n",
              "      <td>Expekt</td>\n",
              "      <td>9</td>\n",
              "      <td>9</td>\n",
              "      <td>9</td>\n",
              "    </tr>\n",
              "    <tr>\n",
              "      <th>2</th>\n",
              "      <td>170090</td>\n",
              "      <td>England: Premier League</td>\n",
              "      <td>2005-01-01</td>\n",
              "      <td>Aston Villa</td>\n",
              "      <td>1</td>\n",
              "      <td>Blackburn</td>\n",
              "      <td>0</td>\n",
              "      <td>1.8522</td>\n",
              "      <td>3.2611</td>\n",
              "      <td>4.0144</td>\n",
              "      <td>2.00</td>\n",
              "      <td>3.40</td>\n",
              "      <td>4.50</td>\n",
              "      <td>Pinnacle Sports</td>\n",
              "      <td>Paddy Power</td>\n",
              "      <td>Sportingbet</td>\n",
              "      <td>9</td>\n",
              "      <td>9</td>\n",
              "      <td>9</td>\n",
              "    </tr>\n",
              "    <tr>\n",
              "      <th>3</th>\n",
              "      <td>170091</td>\n",
              "      <td>England: Premier League</td>\n",
              "      <td>2005-01-01</td>\n",
              "      <td>Bolton</td>\n",
              "      <td>1</td>\n",
              "      <td>West Brom</td>\n",
              "      <td>1</td>\n",
              "      <td>1.6122</td>\n",
              "      <td>3.4133</td>\n",
              "      <td>5.4722</td>\n",
              "      <td>1.67</td>\n",
              "      <td>3.57</td>\n",
              "      <td>6.27</td>\n",
              "      <td>Coral</td>\n",
              "      <td>Pinnacle Sports</td>\n",
              "      <td>Pinnacle Sports</td>\n",
              "      <td>9</td>\n",
              "      <td>9</td>\n",
              "      <td>9</td>\n",
              "    </tr>\n",
              "    <tr>\n",
              "      <th>4</th>\n",
              "      <td>170092</td>\n",
              "      <td>England: Premier League</td>\n",
              "      <td>2005-01-01</td>\n",
              "      <td>Charlton</td>\n",
              "      <td>1</td>\n",
              "      <td>Arsenal</td>\n",
              "      <td>3</td>\n",
              "      <td>5.9878</td>\n",
              "      <td>3.4778</td>\n",
              "      <td>1.5567</td>\n",
              "      <td>7.00</td>\n",
              "      <td>3.60</td>\n",
              "      <td>1.62</td>\n",
              "      <td>Expekt</td>\n",
              "      <td>Paddy Power</td>\n",
              "      <td>bet365</td>\n",
              "      <td>9</td>\n",
              "      <td>9</td>\n",
              "      <td>9</td>\n",
              "    </tr>\n",
              "  </tbody>\n",
              "</table>\n",
              "</div>\n",
              "      <button class=\"colab-df-convert\" onclick=\"convertToInteractive('df-06c85603-bec6-430c-966b-0c18ca57b052')\"\n",
              "              title=\"Convert this dataframe to an interactive table.\"\n",
              "              style=\"display:none;\">\n",
              "        \n",
              "  <svg xmlns=\"http://www.w3.org/2000/svg\" height=\"24px\"viewBox=\"0 0 24 24\"\n",
              "       width=\"24px\">\n",
              "    <path d=\"M0 0h24v24H0V0z\" fill=\"none\"/>\n",
              "    <path d=\"M18.56 5.44l.94 2.06.94-2.06 2.06-.94-2.06-.94-.94-2.06-.94 2.06-2.06.94zm-11 1L8.5 8.5l.94-2.06 2.06-.94-2.06-.94L8.5 2.5l-.94 2.06-2.06.94zm10 10l.94 2.06.94-2.06 2.06-.94-2.06-.94-.94-2.06-.94 2.06-2.06.94z\"/><path d=\"M17.41 7.96l-1.37-1.37c-.4-.4-.92-.59-1.43-.59-.52 0-1.04.2-1.43.59L10.3 9.45l-7.72 7.72c-.78.78-.78 2.05 0 2.83L4 21.41c.39.39.9.59 1.41.59.51 0 1.02-.2 1.41-.59l7.78-7.78 2.81-2.81c.8-.78.8-2.07 0-2.86zM5.41 20L4 18.59l7.72-7.72 1.47 1.35L5.41 20z\"/>\n",
              "  </svg>\n",
              "      </button>\n",
              "      \n",
              "  <style>\n",
              "    .colab-df-container {\n",
              "      display:flex;\n",
              "      flex-wrap:wrap;\n",
              "      gap: 12px;\n",
              "    }\n",
              "\n",
              "    .colab-df-convert {\n",
              "      background-color: #E8F0FE;\n",
              "      border: none;\n",
              "      border-radius: 50%;\n",
              "      cursor: pointer;\n",
              "      display: none;\n",
              "      fill: #1967D2;\n",
              "      height: 32px;\n",
              "      padding: 0 0 0 0;\n",
              "      width: 32px;\n",
              "    }\n",
              "\n",
              "    .colab-df-convert:hover {\n",
              "      background-color: #E2EBFA;\n",
              "      box-shadow: 0px 1px 2px rgba(60, 64, 67, 0.3), 0px 1px 3px 1px rgba(60, 64, 67, 0.15);\n",
              "      fill: #174EA6;\n",
              "    }\n",
              "\n",
              "    [theme=dark] .colab-df-convert {\n",
              "      background-color: #3B4455;\n",
              "      fill: #D2E3FC;\n",
              "    }\n",
              "\n",
              "    [theme=dark] .colab-df-convert:hover {\n",
              "      background-color: #434B5C;\n",
              "      box-shadow: 0px 1px 3px 1px rgba(0, 0, 0, 0.15);\n",
              "      filter: drop-shadow(0px 1px 2px rgba(0, 0, 0, 0.3));\n",
              "      fill: #FFFFFF;\n",
              "    }\n",
              "  </style>\n",
              "\n",
              "      <script>\n",
              "        const buttonEl =\n",
              "          document.querySelector('#df-06c85603-bec6-430c-966b-0c18ca57b052 button.colab-df-convert');\n",
              "        buttonEl.style.display =\n",
              "          google.colab.kernel.accessAllowed ? 'block' : 'none';\n",
              "\n",
              "        async function convertToInteractive(key) {\n",
              "          const element = document.querySelector('#df-06c85603-bec6-430c-966b-0c18ca57b052');\n",
              "          const dataTable =\n",
              "            await google.colab.kernel.invokeFunction('convertToInteractive',\n",
              "                                                     [key], {});\n",
              "          if (!dataTable) return;\n",
              "\n",
              "          const docLinkHtml = 'Like what you see? Visit the ' +\n",
              "            '<a target=\"_blank\" href=https://colab.research.google.com/notebooks/data_table.ipynb>data table notebook</a>'\n",
              "            + ' to learn more about interactive tables.';\n",
              "          element.innerHTML = '';\n",
              "          dataTable['output_type'] = 'display_data';\n",
              "          await google.colab.output.renderOutput(dataTable, element);\n",
              "          const docLink = document.createElement('div');\n",
              "          docLink.innerHTML = docLinkHtml;\n",
              "          element.appendChild(docLink);\n",
              "        }\n",
              "      </script>\n",
              "    </div>\n",
              "  </div>\n",
              "  "
            ]
          },
          "metadata": {},
          "execution_count": 6
        }
      ],
      "source": [
        "import pandas as pd\n",
        "import numpy as np\n",
        "df = pd.read_csv('340wProject/data/Beat the bookies/closing_odds.csv')\n",
        "df.head()"
      ]
    },
    {
      "cell_type": "code",
      "execution_count": 7,
      "metadata": {
        "colab": {
          "base_uri": "https://localhost:8080/"
        },
        "id": "VjF4s4gH3AMN",
        "outputId": "bbef2b16-e97f-4917-a7da-2c1e41ef3a80"
      },
      "outputs": [
        {
          "output_type": "stream",
          "name": "stderr",
          "text": [
            "<ipython-input-7-ce688fa62e12>:3: SettingWithCopyWarning: \n",
            "A value is trying to be set on a copy of a slice from a DataFrame.\n",
            "Try using .loc[row_indexer,col_indexer] = value instead\n",
            "\n",
            "See the caveats in the documentation: https://pandas.pydata.org/pandas-docs/stable/user_guide/indexing.html#returning-a-view-versus-a-copy\n",
            "  subset['home_win'] = np.where(subset['home_score'] > subset['away_score'], True, False) # outcome column\n",
            "<ipython-input-7-ce688fa62e12>:4: SettingWithCopyWarning: \n",
            "A value is trying to be set on a copy of a slice from a DataFrame.\n",
            "Try using .loc[row_indexer,col_indexer] = value instead\n",
            "\n",
            "See the caveats in the documentation: https://pandas.pydata.org/pandas-docs/stable/user_guide/indexing.html#returning-a-view-versus-a-copy\n",
            "  subset['p_cons'] =  1/df['avg_odds_home_win'] #probability of an event happening\n",
            "<ipython-input-7-ce688fa62e12>:7: SettingWithCopyWarning: \n",
            "A value is trying to be set on a copy of a slice from a DataFrame.\n",
            "Try using .loc[row_indexer,col_indexer] = value instead\n",
            "\n",
            "See the caveats in the documentation: https://pandas.pydata.org/pandas-docs/stable/user_guide/indexing.html#returning-a-view-versus-a-copy\n",
            "  subset['kelly_criterion_percent'] = subset['p_cons'] - (p_unfavorable_cons / b)\n"
          ]
        },
        {
          "output_type": "execute_result",
          "data": {
            "text/plain": [
              "0         0.333957\n",
              "1         0.513980\n",
              "2         0.539898\n",
              "3         0.620270\n",
              "4         0.167006\n",
              "            ...   \n",
              "479435    0.593895\n",
              "479436    0.076240\n",
              "479437    0.058053\n",
              "479438    0.063636\n",
              "479439    0.212112\n",
              "Name: p_cons, Length: 479440, dtype: float64"
            ]
          },
          "metadata": {},
          "execution_count": 7
        }
      ],
      "source": [
        "# calculate the Kelly criterion column\n",
        "subset = df[['match_id','home_score','away_score','max_odds_home_win']]\n",
        "subset['home_win'] = np.where(subset['home_score'] > subset['away_score'], True, False) # outcome column\n",
        "subset['p_cons'] =  1/df['avg_odds_home_win'] #probability of an event happening\n",
        "p_unfavorable_cons = 1 - subset['p_cons'] \n",
        "b = df['max_odds_home_win'] # ?\n",
        "subset['kelly_criterion_percent'] = subset['p_cons'] - (p_unfavorable_cons / b)\n",
        "subset['p_cons']"
      ]
    },
    {
      "cell_type": "code",
      "execution_count": 8,
      "metadata": {
        "colab": {
          "base_uri": "https://localhost:8080/"
        },
        "id": "tYgNT4k0EWTf",
        "outputId": "5af3b365-52e7-402f-9599-b1484f70fd72"
      },
      "outputs": [
        {
          "output_type": "stream",
          "name": "stdout",
          "text": [
            "(479440, 8) Index(['match_id', 'home_score', 'away_score', 'max_odds_home_win', 'home_win',\n",
            "       'p_cons', 'kelly_criterion_percent', 'E(pi)'],\n",
            "      dtype='object')\n"
          ]
        },
        {
          "output_type": "stream",
          "name": "stderr",
          "text": [
            "<ipython-input-8-368d3166f577>:4: SettingWithCopyWarning: \n",
            "A value is trying to be set on a copy of a slice from a DataFrame.\n",
            "Try using .loc[row_indexer,col_indexer] = value instead\n",
            "\n",
            "See the caveats in the documentation: https://pandas.pydata.org/pandas-docs/stable/user_guide/indexing.html#returning-a-view-versus-a-copy\n",
            "  subset['E(pi)'] = (subset['p_cons'] - alpha) * omega-1 #\n"
          ]
        }
      ],
      "source": [
        "# Calculating the expected payout for each game\n",
        "alpha = .034 #constant that depends on victory (0.034 for home win)\n",
        "omega = df['max_odds_home_win'] # odds paid out by the bookmaker\n",
        "subset['E(pi)'] = (subset['p_cons'] - alpha) * omega-1 #\n",
        "print(subset.shape, subset.columns)"
      ]
    },
    {
      "cell_type": "code",
      "execution_count": 9,
      "metadata": {
        "colab": {
          "base_uri": "https://localhost:8080/"
        },
        "id": "PIVSauOjKp2Q",
        "outputId": "16982175-425d-4e54-dce5-e54939d184c0"
      },
      "outputs": [
        {
          "output_type": "stream",
          "name": "stdout",
          "text": [
            "        match_id  home_score  away_score  max_odds_home_win  home_win  \\\n",
            "0         170088           0           1               3.20     False   \n",
            "1         170089           3           1               2.04      True   \n",
            "2         170090           1           0               2.00      True   \n",
            "3         170091           1           1               1.67     False   \n",
            "4         170092           1           3               7.00     False   \n",
            "...          ...         ...         ...                ...       ...   \n",
            "479435    876806           1           2               1.83     False   \n",
            "479436    876807           1           1              19.00     False   \n",
            "479437    876808           0           5              22.00     False   \n",
            "479438    876809           0           3              34.00     False   \n",
            "479439    876812           0           0               5.46     False   \n",
            "\n",
            "          p_cons  kelly_criterion_percent     E(pi)  place_bet  \n",
            "0       0.333957                 0.125818 -0.040138      False  \n",
            "1       0.513980                 0.275735 -0.020840      False  \n",
            "2       0.539898                 0.309848  0.011797       True  \n",
            "3       0.620270                 0.392887 -0.020928      False  \n",
            "4       0.167006                 0.048007 -0.068956      False  \n",
            "...          ...                      ...       ...        ...  \n",
            "479435  0.593895                 0.371979  0.024607       True  \n",
            "479436  0.076240                 0.027621 -0.197443      False  \n",
            "479437  0.058053                 0.015237 -0.470831      False  \n",
            "479438  0.063636                 0.036096  0.007634       True  \n",
            "479439  0.212112                 0.067810 -0.027511      False  \n",
            "\n",
            "[479440 rows x 9 columns]\n"
          ]
        },
        {
          "output_type": "stream",
          "name": "stderr",
          "text": [
            "<ipython-input-9-f04ba2a3aa02>:2: SettingWithCopyWarning: \n",
            "A value is trying to be set on a copy of a slice from a DataFrame.\n",
            "Try using .loc[row_indexer,col_indexer] = value instead\n",
            "\n",
            "See the caveats in the documentation: https://pandas.pydata.org/pandas-docs/stable/user_guide/indexing.html#returning-a-view-versus-a-copy\n",
            "  subset['place_bet'] = np.where(subset['E(pi)'] > 0, True, False) # outcome column\n"
          ]
        }
      ],
      "source": [
        "# determining when to bet \n",
        "subset['place_bet'] = np.where(subset['E(pi)'] > 0, True, False) # outcome column\n",
        "print(subset)"
      ]
    },
    {
      "cell_type": "code",
      "execution_count": 11,
      "metadata": {
        "colab": {
          "base_uri": "https://localhost:8080/"
        },
        "id": "QcN3i_NOTwvZ",
        "outputId": "ede5e67b-7e47-494c-841c-13557c06b76b"
      },
      "outputs": [
        {
          "output_type": "stream",
          "name": "stderr",
          "text": [
            "<ipython-input-11-c46315aa7e0a>:16: SettingWithCopyWarning: \n",
            "A value is trying to be set on a copy of a slice from a DataFrame.\n",
            "Try using .loc[row_indexer,col_indexer] = value instead\n",
            "\n",
            "See the caveats in the documentation: https://pandas.pydata.org/pandas-docs/stable/user_guide/indexing.html#returning-a-view-versus-a-copy\n",
            "  subset['wealth'] = wealth\n"
          ]
        }
      ],
      "source": [
        "# adding wealth to subset\n",
        "initial_wealth = 50\n",
        "wealth = []\n",
        "for i in range(len(subset)):\n",
        "  \n",
        "  if subset['place_bet'][i] == True: \n",
        "    if subset['home_win'][i] == True:\n",
        "      # bet won, wealth then gets increased by bet payout\n",
        "        wealth.append(initial_wealth * subset['kelly_criterion_percent'][i] * subset['max_odds_home_win'][i] + ( initial_wealth - (initial_wealth * subset['kelly_criterion_percent'][i])))\n",
        "    else:\n",
        "        wealth.append(initial_wealth - (initial_wealth * subset['kelly_criterion_percent'][i]))\n",
        "      \n",
        "  else:\n",
        "      wealth.append(0)\n",
        "\n",
        "subset['wealth'] = wealth"
      ]
    },
    {
      "cell_type": "code",
      "source": [
        "# make one graph plotting games vs wealth\n",
        "import matplotlib.pyplot as plt\n",
        "x = subset.index\n",
        "y = wealth\n",
        "plt.scatter(x, y)\n",
        "plt.xlabel('Soccer Match via ID')\n",
        "plt.ylabel('Wealth Earned by Bettor')\n",
        "plt.title('Soccer Match vs Money Earned by Bettor')\n",
        "plt.show()"
      ],
      "metadata": {
        "id": "ls3ilROEfTDS",
        "colab": {
          "base_uri": "https://localhost:8080/",
          "height": 295
        },
        "outputId": "3706b4ba-4c4c-4144-e20c-cf4b857dbc8e"
      },
      "execution_count": 12,
      "outputs": [
        {
          "output_type": "display_data",
          "data": {
            "text/plain": [
              "<Figure size 432x288 with 1 Axes>"
            ],
            "image/png": "[encoded data removed]"
          },
          "metadata": {
            "needs_background": "light"
          }
        }
      ]
    },
    {
      "cell_type": "code",
      "source": [
        "print('Total money earned using our method: ', sum(subset['wealth']))"
      ],
      "metadata": {
        "colab": {
          "base_uri": "https://localhost:8080/"
        },
        "id": "0FzrhuKspHza",
        "outputId": "dbcc1fbd-cc8c-4fa1-d26d-4f48a8614b44"
      },
      "execution_count": 13,
      "outputs": [
        {
          "output_type": "stream",
          "name": "stdout",
          "text": [
            "Total money earned using our method:  6607920.491723742\n"
          ]
        }
      ]
    }
  ],
  "metadata": {
    "colab": {
      "provenance": []
    },
    "kernelspec": {
      "display_name": "Python 3",
      "name": "python3"
    },
    "language_info": {
      "name": "python"
    }
  },
  "nbformat": 4,
  "nbformat_minor": 0
}