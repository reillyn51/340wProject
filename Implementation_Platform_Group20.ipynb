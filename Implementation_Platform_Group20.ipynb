{
  "cells": [
    {
      "cell_type": "code",
      "execution_count": 24,
      "metadata": {
        "colab": {
          "base_uri": "https://localhost:8080/"
        },
        "id": "9hXKnKl3bcJS",
        "outputId": "37ea3a5c-0e36-4234-f542-838ac4f4f2d7"
      },
      "outputs": [
        {
          "output_type": "stream",
          "name": "stdout",
          "text": [
            "Drive already mounted at /content/drive; to attempt to forcibly remount, call drive.mount(\"/content/drive\", force_remount=True).\n"
          ]
        }
      ],
      "source": [
        "from google.colab import drive\n",
        "drive.mount('/content/drive')\n"
      ]
    },
    {
      "cell_type": "code",
      "execution_count": 25,
      "metadata": {
        "colab": {
          "base_uri": "https://localhost:8080/"
        },
        "id": "JEg5zfCp9vsg",
        "outputId": "3f801ca0-a4e6-45a2-ee40-1e4073136eaf"
      },
      "outputs": [
        {
          "output_type": "stream",
          "name": "stdout",
          "text": [
            "[Errno 2] No such file or directory: 'drive/MyDrive/'\n",
            "/content/drive/MyDrive\n"
          ]
        }
      ],
      "source": [
        "%cd drive/MyDrive/"
      ]
    },
    {
      "cell_type": "code",
      "execution_count": 26,
      "metadata": {
        "colab": {
          "base_uri": "https://localhost:8080/"
        },
        "id": "sCH4--x796Sc",
        "outputId": "069d5d04-a96c-43d5-cc91-96f1d93bc87d"
      },
      "outputs": [
        {
          "output_type": "stream",
          "name": "stdout",
          "text": [
            "/content/drive/My Drive\n"
          ]
        }
      ],
      "source": [
        "!pwd"
      ]
    },
    {
      "cell_type": "code",
      "execution_count": null,
      "metadata": {
        "colab": {
          "base_uri": "https://localhost:8080/"
        },
        "id": "xeTQbe68oIV4",
        "outputId": "624af307-9fd4-4392-a570-8c78a4c97915"
      },
      "outputs": [
        {
          "name": "stdout",
          "output_type": "stream",
          "text": [
            "Cloning into '340wProject'...\n",
            "remote: Enumerating objects: 254, done.\u001b[K\n",
            "remote: Counting objects: 100% (19/19), done.\u001b[K\n",
            "remote: Compressing objects: 100% (11/11), done.\u001b[K\n",
            "remote: Total 254 (delta 13), reused 8 (delta 8), pack-reused 235\u001b[K\n",
            "Receiving objects: 100% (254/254), 38.15 MiB | 11.07 MiB/s, done.\n",
            "Resolving deltas: 100% (100/100), done.\n",
            "Updating files: 100% (43/43), done.\n"
          ]
        }
      ],
      "source": [
        "!git clone https://github.com/reillyn51/340wProject.git"
      ]
    },
    {
      "cell_type": "code",
      "execution_count": 27,
      "metadata": {
        "colab": {
          "base_uri": "https://localhost:8080/"
        },
        "id": "RxD9eLrMoWiK",
        "outputId": "c46d2ad6-fd94-4b56-ec65-24970dcbd75b"
      },
      "outputs": [
        {
          "output_type": "stream",
          "name": "stdout",
          "text": [
            "/bin/bash: line 0: cd: drive/MyDrive/: No such file or directory\n"
          ]
        }
      ],
      "source": [
        "!cd drive/MyDrive/"
      ]
    },
    {
      "cell_type": "code",
      "execution_count": 28,
      "metadata": {
        "colab": {
          "base_uri": "https://localhost:8080/",
          "height": 444
        },
        "id": "02D1u_TLobNr",
        "outputId": "8f461572-f86d-435a-8031-eaae9cc07a2c"
      },
      "outputs": [
        {
          "output_type": "execute_result",
          "data": {
            "text/plain": [
              "   match_id                   league  match_date    home_team  home_score  \\\n",
              "0    170088  England: Premier League  2005-01-01    Liverpool           0   \n",
              "1    170089  England: Premier League  2005-01-01       Fulham           3   \n",
              "2    170090  England: Premier League  2005-01-01  Aston Villa           1   \n",
              "3    170091  England: Premier League  2005-01-01       Bolton           1   \n",
              "4    170092  England: Premier League  2005-01-01     Charlton           1   \n",
              "\n",
              "        away_team  away_score  avg_odds_home_win  avg_odds_draw  \\\n",
              "0         Chelsea           1             2.9944         3.1944   \n",
              "1  Crystal Palace           1             1.9456         3.2333   \n",
              "2       Blackburn           0             1.8522         3.2611   \n",
              "3       West Brom           1             1.6122         3.4133   \n",
              "4         Arsenal           3             5.9878         3.4778   \n",
              "\n",
              "   avg_odds_away_win  max_odds_home_win  max_odds_draw  max_odds_away_win  \\\n",
              "0             2.2256               3.20           3.25               2.29   \n",
              "1             3.6722               2.04           3.30               4.15   \n",
              "2             4.0144               2.00           3.40               4.50   \n",
              "3             5.4722               1.67           3.57               6.27   \n",
              "4             1.5567               7.00           3.60               1.62   \n",
              "\n",
              "  top_bookie_home_win  top_bookie_draw top_bookie_away_win  n_odds_home_win  \\\n",
              "0         Paddy Power      Sportingbet              Expekt                9   \n",
              "1     Pinnacle Sports      bet-at-home              Expekt                9   \n",
              "2     Pinnacle Sports      Paddy Power         Sportingbet                9   \n",
              "3               Coral  Pinnacle Sports     Pinnacle Sports                9   \n",
              "4              Expekt      Paddy Power              bet365                9   \n",
              "\n",
              "   n_odds_draw  n_odds_away_win  \n",
              "0            9                9  \n",
              "1            9                9  \n",
              "2            9                9  \n",
              "3            9                9  \n",
              "4            9                9  "
            ],
            "text/html": [
              "\n",
              "  <div id=\"df-6af9d3b6-eae7-436e-95eb-a8db5dcd0223\">\n",
              "    <div class=\"colab-df-container\">\n",
              "      <div>\n",
              "<style scoped>\n",
              "    .dataframe tbody tr th:only-of-type {\n",
              "        vertical-align: middle;\n",
              "    }\n",
              "\n",
              "    .dataframe tbody tr th {\n",
              "        vertical-align: top;\n",
              "    }\n",
              "\n",
              "    .dataframe thead th {\n",
              "        text-align: right;\n",
              "    }\n",
              "</style>\n",
              "<table border=\"1\" class=\"dataframe\">\n",
              "  <thead>\n",
              "    <tr style=\"text-align: right;\">\n",
              "      <th></th>\n",
              "      <th>match_id</th>\n",
              "      <th>league</th>\n",
              "      <th>match_date</th>\n",
              "      <th>home_team</th>\n",
              "      <th>home_score</th>\n",
              "      <th>away_team</th>\n",
              "      <th>away_score</th>\n",
              "      <th>avg_odds_home_win</th>\n",
              "      <th>avg_odds_draw</th>\n",
              "      <th>avg_odds_away_win</th>\n",
              "      <th>max_odds_home_win</th>\n",
              "      <th>max_odds_draw</th>\n",
              "      <th>max_odds_away_win</th>\n",
              "      <th>top_bookie_home_win</th>\n",
              "      <th>top_bookie_draw</th>\n",
              "      <th>top_bookie_away_win</th>\n",
              "      <th>n_odds_home_win</th>\n",
              "      <th>n_odds_draw</th>\n",
              "      <th>n_odds_away_win</th>\n",
              "    </tr>\n",
              "  </thead>\n",
              "  <tbody>\n",
              "    <tr>\n",
              "      <th>0</th>\n",
              "      <td>170088</td>\n",
              "      <td>England: Premier League</td>\n",
              "      <td>2005-01-01</td>\n",
              "      <td>Liverpool</td>\n",
              "      <td>0</td>\n",
              "      <td>Chelsea</td>\n",
              "      <td>1</td>\n",
              "      <td>2.9944</td>\n",
              "      <td>3.1944</td>\n",
              "      <td>2.2256</td>\n",
              "      <td>3.20</td>\n",
              "      <td>3.25</td>\n",
              "      <td>2.29</td>\n",
              "      <td>Paddy Power</td>\n",
              "      <td>Sportingbet</td>\n",
              "      <td>Expekt</td>\n",
              "      <td>9</td>\n",
              "      <td>9</td>\n",
              "      <td>9</td>\n",
              "    </tr>\n",
              "    <tr>\n",
              "      <th>1</th>\n",
              "      <td>170089</td>\n",
              "      <td>England: Premier League</td>\n",
              "      <td>2005-01-01</td>\n",
              "      <td>Fulham</td>\n",
              "      <td>3</td>\n",
              "      <td>Crystal Palace</td>\n",
              "      <td>1</td>\n",
              "      <td>1.9456</td>\n",
              "      <td>3.2333</td>\n",
              "      <td>3.6722</td>\n",
              "      <td>2.04</td>\n",
              "      <td>3.30</td>\n",
              "      <td>4.15</td>\n",
              "      <td>Pinnacle Sports</td>\n",
              "      <td>bet-at-home</td>\n",
              "      <td>Expekt</td>\n",
              "      <td>9</td>\n",
              "      <td>9</td>\n",
              "      <td>9</td>\n",
              "    </tr>\n",
              "    <tr>\n",
              "      <th>2</th>\n",
              "      <td>170090</td>\n",
              "      <td>England: Premier League</td>\n",
              "      <td>2005-01-01</td>\n",
              "      <td>Aston Villa</td>\n",
              "      <td>1</td>\n",
              "      <td>Blackburn</td>\n",
              "      <td>0</td>\n",
              "      <td>1.8522</td>\n",
              "      <td>3.2611</td>\n",
              "      <td>4.0144</td>\n",
              "      <td>2.00</td>\n",
              "      <td>3.40</td>\n",
              "      <td>4.50</td>\n",
              "      <td>Pinnacle Sports</td>\n",
              "      <td>Paddy Power</td>\n",
              "      <td>Sportingbet</td>\n",
              "      <td>9</td>\n",
              "      <td>9</td>\n",
              "      <td>9</td>\n",
              "    </tr>\n",
              "    <tr>\n",
              "      <th>3</th>\n",
              "      <td>170091</td>\n",
              "      <td>England: Premier League</td>\n",
              "      <td>2005-01-01</td>\n",
              "      <td>Bolton</td>\n",
              "      <td>1</td>\n",
              "      <td>West Brom</td>\n",
              "      <td>1</td>\n",
              "      <td>1.6122</td>\n",
              "      <td>3.4133</td>\n",
              "      <td>5.4722</td>\n",
              "      <td>1.67</td>\n",
              "      <td>3.57</td>\n",
              "      <td>6.27</td>\n",
              "      <td>Coral</td>\n",
              "      <td>Pinnacle Sports</td>\n",
              "      <td>Pinnacle Sports</td>\n",
              "      <td>9</td>\n",
              "      <td>9</td>\n",
              "      <td>9</td>\n",
              "    </tr>\n",
              "    <tr>\n",
              "      <th>4</th>\n",
              "      <td>170092</td>\n",
              "      <td>England: Premier League</td>\n",
              "      <td>2005-01-01</td>\n",
              "      <td>Charlton</td>\n",
              "      <td>1</td>\n",
              "      <td>Arsenal</td>\n",
              "      <td>3</td>\n",
              "      <td>5.9878</td>\n",
              "      <td>3.4778</td>\n",
              "      <td>1.5567</td>\n",
              "      <td>7.00</td>\n",
              "      <td>3.60</td>\n",
              "      <td>1.62</td>\n",
              "      <td>Expekt</td>\n",
              "      <td>Paddy Power</td>\n",
              "      <td>bet365</td>\n",
              "      <td>9</td>\n",
              "      <td>9</td>\n",
              "      <td>9</td>\n",
              "    </tr>\n",
              "  </tbody>\n",
              "</table>\n",
              "</div>\n",
              "      <button class=\"colab-df-convert\" onclick=\"convertToInteractive('df-6af9d3b6-eae7-436e-95eb-a8db5dcd0223')\"\n",
              "              title=\"Convert this dataframe to an interactive table.\"\n",
              "              style=\"display:none;\">\n",
              "        \n",
              "  <svg xmlns=\"http://www.w3.org/2000/svg\" height=\"24px\"viewBox=\"0 0 24 24\"\n",
              "       width=\"24px\">\n",
              "    <path d=\"M0 0h24v24H0V0z\" fill=\"none\"/>\n",
              "    <path d=\"M18.56 5.44l.94 2.06.94-2.06 2.06-.94-2.06-.94-.94-2.06-.94 2.06-2.06.94zm-11 1L8.5 8.5l.94-2.06 2.06-.94-2.06-.94L8.5 2.5l-.94 2.06-2.06.94zm10 10l.94 2.06.94-2.06 2.06-.94-2.06-.94-.94-2.06-.94 2.06-2.06.94z\"/><path d=\"M17.41 7.96l-1.37-1.37c-.4-.4-.92-.59-1.43-.59-.52 0-1.04.2-1.43.59L10.3 9.45l-7.72 7.72c-.78.78-.78 2.05 0 2.83L4 21.41c.39.39.9.59 1.41.59.51 0 1.02-.2 1.41-.59l7.78-7.78 2.81-2.81c.8-.78.8-2.07 0-2.86zM5.41 20L4 18.59l7.72-7.72 1.47 1.35L5.41 20z\"/>\n",
              "  </svg>\n",
              "      </button>\n",
              "      \n",
              "  <style>\n",
              "    .colab-df-container {\n",
              "      display:flex;\n",
              "      flex-wrap:wrap;\n",
              "      gap: 12px;\n",
              "    }\n",
              "\n",
              "    .colab-df-convert {\n",
              "      background-color: #E8F0FE;\n",
              "      border: none;\n",
              "      border-radius: 50%;\n",
              "      cursor: pointer;\n",
              "      display: none;\n",
              "      fill: #1967D2;\n",
              "      height: 32px;\n",
              "      padding: 0 0 0 0;\n",
              "      width: 32px;\n",
              "    }\n",
              "\n",
              "    .colab-df-convert:hover {\n",
              "      background-color: #E2EBFA;\n",
              "      box-shadow: 0px 1px 2px rgba(60, 64, 67, 0.3), 0px 1px 3px 1px rgba(60, 64, 67, 0.15);\n",
              "      fill: #174EA6;\n",
              "    }\n",
              "\n",
              "    [theme=dark] .colab-df-convert {\n",
              "      background-color: #3B4455;\n",
              "      fill: #D2E3FC;\n",
              "    }\n",
              "\n",
              "    [theme=dark] .colab-df-convert:hover {\n",
              "      background-color: #434B5C;\n",
              "      box-shadow: 0px 1px 3px 1px rgba(0, 0, 0, 0.15);\n",
              "      filter: drop-shadow(0px 1px 2px rgba(0, 0, 0, 0.3));\n",
              "      fill: #FFFFFF;\n",
              "    }\n",
              "  </style>\n",
              "\n",
              "      <script>\n",
              "        const buttonEl =\n",
              "          document.querySelector('#df-6af9d3b6-eae7-436e-95eb-a8db5dcd0223 button.colab-df-convert');\n",
              "        buttonEl.style.display =\n",
              "          google.colab.kernel.accessAllowed ? 'block' : 'none';\n",
              "\n",
              "        async function convertToInteractive(key) {\n",
              "          const element = document.querySelector('#df-6af9d3b6-eae7-436e-95eb-a8db5dcd0223');\n",
              "          const dataTable =\n",
              "            await google.colab.kernel.invokeFunction('convertToInteractive',\n",
              "                                                     [key], {});\n",
              "          if (!dataTable) return;\n",
              "\n",
              "          const docLinkHtml = 'Like what you see? Visit the ' +\n",
              "            '<a target=\"_blank\" href=https://colab.research.google.com/notebooks/data_table.ipynb>data table notebook</a>'\n",
              "            + ' to learn more about interactive tables.';\n",
              "          element.innerHTML = '';\n",
              "          dataTable['output_type'] = 'display_data';\n",
              "          await google.colab.output.renderOutput(dataTable, element);\n",
              "          const docLink = document.createElement('div');\n",
              "          docLink.innerHTML = docLinkHtml;\n",
              "          element.appendChild(docLink);\n",
              "        }\n",
              "      </script>\n",
              "    </div>\n",
              "  </div>\n",
              "  "
            ]
          },
          "metadata": {},
          "execution_count": 28
        }
      ],
      "source": [
        "import pandas as pd\n",
        "import numpy as np\n",
        "df = pd.read_csv('340wProject/data/Beat the bookies/closing_odds.csv')\n",
        "df.head()"
      ]
    },
    {
      "cell_type": "code",
      "execution_count": 29,
      "metadata": {
        "colab": {
          "base_uri": "https://localhost:8080/"
        },
        "id": "VjF4s4gH3AMN",
        "outputId": "7fa2968c-7dd2-416a-f424-0f482c033802"
      },
      "outputs": [
        {
          "output_type": "stream",
          "name": "stderr",
          "text": [
            "<ipython-input-29-ea65b8b3ac50>:3: SettingWithCopyWarning: \n",
            "A value is trying to be set on a copy of a slice from a DataFrame.\n",
            "Try using .loc[row_indexer,col_indexer] = value instead\n",
            "\n",
            "See the caveats in the documentation: https://pandas.pydata.org/pandas-docs/stable/user_guide/indexing.html#returning-a-view-versus-a-copy\n",
            "  subset['home_win'] = np.where(subset['home_score'] > subset['away_score'], True, False) # outcome column\n",
            "<ipython-input-29-ea65b8b3ac50>:4: SettingWithCopyWarning: \n",
            "A value is trying to be set on a copy of a slice from a DataFrame.\n",
            "Try using .loc[row_indexer,col_indexer] = value instead\n",
            "\n",
            "See the caveats in the documentation: https://pandas.pydata.org/pandas-docs/stable/user_guide/indexing.html#returning-a-view-versus-a-copy\n",
            "  subset['p_cons'] =  1/df['avg_odds_home_win'] # probability of an event happening\n"
          ]
        }
      ],
      "source": [
        "# calculate the variables needed\n",
        "subset = df[['match_id','home_score','away_score','max_odds_home_win']]\n",
        "subset['home_win'] = np.where(subset['home_score'] > subset['away_score'], True, False) # outcome column\n",
        "subset['p_cons'] =  1/df['avg_odds_home_win'] # probability of an event happening\n",
        "p_unfavorable_cons = 1 - subset['p_cons'] "
      ]
    },
    {
      "cell_type": "code",
      "execution_count": 30,
      "metadata": {
        "colab": {
          "base_uri": "https://localhost:8080/"
        },
        "id": "tYgNT4k0EWTf",
        "outputId": "f973e939-eae3-4b7b-ac7c-3a1f2938a56a"
      },
      "outputs": [
        {
          "output_type": "stream",
          "name": "stdout",
          "text": [
            "(479440, 7) Index(['match_id', 'home_score', 'away_score', 'max_odds_home_win', 'home_win',\n",
            "       'p_cons', 'E(pi)'],\n",
            "      dtype='object')\n"
          ]
        },
        {
          "output_type": "stream",
          "name": "stderr",
          "text": [
            "<ipython-input-30-368d3166f577>:4: SettingWithCopyWarning: \n",
            "A value is trying to be set on a copy of a slice from a DataFrame.\n",
            "Try using .loc[row_indexer,col_indexer] = value instead\n",
            "\n",
            "See the caveats in the documentation: https://pandas.pydata.org/pandas-docs/stable/user_guide/indexing.html#returning-a-view-versus-a-copy\n",
            "  subset['E(pi)'] = (subset['p_cons'] - alpha) * omega-1 #\n"
          ]
        }
      ],
      "source": [
        "# Calculating the expected payout for each game\n",
        "alpha = .034 #constant that depends on victory (0.034 for home win)\n",
        "omega = df['max_odds_home_win'] # odds paid out by the bookmaker\n",
        "subset['E(pi)'] = (subset['p_cons'] - alpha) * omega-1 #\n",
        "print(subset.shape, subset.columns)"
      ]
    },
    {
      "cell_type": "code",
      "execution_count": 31,
      "metadata": {
        "colab": {
          "base_uri": "https://localhost:8080/"
        },
        "id": "PIVSauOjKp2Q",
        "outputId": "5eaefcea-fa62-44d4-8d8a-1ce49fa568c0"
      },
      "outputs": [
        {
          "output_type": "stream",
          "name": "stdout",
          "text": [
            "        match_id  home_score  away_score  max_odds_home_win  home_win  \\\n",
            "0         170088           0           1               3.20     False   \n",
            "1         170089           3           1               2.04      True   \n",
            "2         170090           1           0               2.00      True   \n",
            "3         170091           1           1               1.67     False   \n",
            "4         170092           1           3               7.00     False   \n",
            "...          ...         ...         ...                ...       ...   \n",
            "479435    876806           1           2               1.83     False   \n",
            "479436    876807           1           1              19.00     False   \n",
            "479437    876808           0           5              22.00     False   \n",
            "479438    876809           0           3              34.00     False   \n",
            "479439    876812           0           0               5.46     False   \n",
            "\n",
            "          p_cons     E(pi)  place_bet  \n",
            "0       0.333957 -0.040138      False  \n",
            "1       0.513980 -0.020840      False  \n",
            "2       0.539898  0.011797       True  \n",
            "3       0.620270 -0.020928      False  \n",
            "4       0.167006 -0.068956      False  \n",
            "...          ...       ...        ...  \n",
            "479435  0.593895  0.024607       True  \n",
            "479436  0.076240 -0.197443      False  \n",
            "479437  0.058053 -0.470831      False  \n",
            "479438  0.063636  0.007634       True  \n",
            "479439  0.212112 -0.027511      False  \n",
            "\n",
            "[479440 rows x 8 columns]\n"
          ]
        },
        {
          "output_type": "stream",
          "name": "stderr",
          "text": [
            "<ipython-input-31-f04ba2a3aa02>:2: SettingWithCopyWarning: \n",
            "A value is trying to be set on a copy of a slice from a DataFrame.\n",
            "Try using .loc[row_indexer,col_indexer] = value instead\n",
            "\n",
            "See the caveats in the documentation: https://pandas.pydata.org/pandas-docs/stable/user_guide/indexing.html#returning-a-view-versus-a-copy\n",
            "  subset['place_bet'] = np.where(subset['E(pi)'] > 0, True, False) # outcome column\n"
          ]
        }
      ],
      "source": [
        "# determining when to bet \n",
        "subset['place_bet'] = np.where(subset['E(pi)'] > 0, True, False) # outcome column\n",
        "print(subset)"
      ]
    },
    {
      "cell_type": "code",
      "execution_count": 33,
      "metadata": {
        "colab": {
          "base_uri": "https://localhost:8080/"
        },
        "id": "QcN3i_NOTwvZ",
        "outputId": "5a275c69-0559-4b8e-f95c-33669287dc64"
      },
      "outputs": [
        {
          "output_type": "stream",
          "name": "stderr",
          "text": [
            "<ipython-input-33-09730d0c07bd>:17: SettingWithCopyWarning: \n",
            "A value is trying to be set on a copy of a slice from a DataFrame.\n",
            "Try using .loc[row_indexer,col_indexer] = value instead\n",
            "\n",
            "See the caveats in the documentation: https://pandas.pydata.org/pandas-docs/stable/user_guide/indexing.html#returning-a-view-versus-a-copy\n",
            "  subset['wealth'] = wealth\n"
          ]
        }
      ],
      "source": [
        "# adding wealth to subset\n",
        "initial_wealth = 50\n",
        "starting_bankroll = initial_wealth * len(subset)\n",
        "wealth = []\n",
        "for i in range(len(subset)):\n",
        "  \n",
        "  if subset['place_bet'][i] == True: \n",
        "    if subset['home_win'][i] == True:\n",
        "      # bet won, wealth then gets increased by bet payout\n",
        "        wealth.append(initial_wealth * subset['max_odds_home_win'][i])\n",
        "    else:\n",
        "        wealth.append(0)\n",
        "      \n",
        "  else:\n",
        "      wealth.append(initial_wealth)\n",
        "\n",
        "subset['wealth'] = wealth"
      ]
    },
    {
      "cell_type": "code",
      "source": [
        "print('Total money earned using parent paper method: ', sum(subset['wealth']) - starting_bankroll)"
      ],
      "metadata": {
        "colab": {
          "base_uri": "https://localhost:8080/"
        },
        "id": "xs3jN5k5ZPZ-",
        "outputId": "45dd04a4-a2d0-4509-cbef-8b9975c13d23"
      },
      "execution_count": 34,
      "outputs": [
        {
          "output_type": "stream",
          "name": "stdout",
          "text": [
            "Total money earned using parent paper method:  76059.0\n"
          ]
        }
      ]
    }
  ],
  "metadata": {
    "colab": {
      "provenance": []
    },
    "kernelspec": {
      "display_name": "Python 3",
      "name": "python3"
    },
    "language_info": {
      "name": "python"
    }
  },
  "nbformat": 4,
  "nbformat_minor": 0
}