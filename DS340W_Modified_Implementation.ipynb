{
  "nbformat": 4,
  "nbformat_minor": 0,
  "metadata": {
    "colab": {
      "provenance": []
    },
    "kernelspec": {
      "name": "python3",
      "display_name": "Python 3"
    },
    "language_info": {
      "name": "python"
    }
  },
  "cells": [
    {
      "cell_type": "code",
      "execution_count": 1,
      "metadata": {
        "colab": {
          "base_uri": "https://localhost:8080/"
        },
        "id": "zlp_0_i4RUZq",
        "outputId": "e0727e47-e0bc-4829-8f69-ad00b5488f4e"
      },
      "outputs": [
        {
          "output_type": "stream",
          "name": "stdout",
          "text": [
            "Mounted at /content/drive\n"
          ]
        }
      ],
      "source": [
        "from google.colab import drive\n",
        "drive.mount('/content/drive')"
      ]
    },
    {
      "cell_type": "code",
      "source": [
        "%cd drive/MyDrive/"
      ],
      "metadata": {
        "colab": {
          "base_uri": "https://localhost:8080/"
        },
        "id": "tmW573tTRf11",
        "outputId": "18774ec0-0b36-4ca3-d57e-d4f2c99289e7"
      },
      "execution_count": 2,
      "outputs": [
        {
          "output_type": "stream",
          "name": "stdout",
          "text": [
            "/content/drive/MyDrive\n"
          ]
        }
      ]
    },
    {
      "cell_type": "code",
      "source": [
        "!pwd"
      ],
      "metadata": {
        "colab": {
          "base_uri": "https://localhost:8080/"
        },
        "id": "Z6dZAIzCRhzO",
        "outputId": "31daab05-84a0-480a-824d-adb3acce8c6d"
      },
      "execution_count": 3,
      "outputs": [
        {
          "output_type": "stream",
          "name": "stdout",
          "text": [
            "/content/drive/MyDrive\n"
          ]
        }
      ]
    },
    {
      "cell_type": "code",
      "source": [
        "!git clone https://github.com/reillyn51/340wProject.git"
      ],
      "metadata": {
        "colab": {
          "base_uri": "https://localhost:8080/"
        },
        "id": "64u0zl7ARkMn",
        "outputId": "d882cb4e-dd09-4268-c545-00dd1c989307"
      },
      "execution_count": null,
      "outputs": [
        {
          "output_type": "stream",
          "name": "stdout",
          "text": [
            "fatal: destination path '340wProject' already exists and is not an empty directory.\n"
          ]
        }
      ]
    },
    {
      "cell_type": "code",
      "source": [
        "!cd drive/MyDrive/"
      ],
      "metadata": {
        "colab": {
          "base_uri": "https://localhost:8080/"
        },
        "id": "T7S2kC81Rl4E",
        "outputId": "19c4de0f-4343-41a4-8283-573cf4ba0858"
      },
      "execution_count": null,
      "outputs": [
        {
          "output_type": "stream",
          "name": "stdout",
          "text": [
            "/bin/bash: line 0: cd: drive/MyDrive/: No such file or directory\n"
          ]
        }
      ]
    },
    {
      "cell_type": "code",
      "source": [
        "import pandas as pd\n",
        "import numpy as np\n",
        "df = pd.read_csv('340wProject/data/Beat the bookies/closing_odds.csv')\n",
        "df.head()"
      ],
      "metadata": {
        "colab": {
          "base_uri": "https://localhost:8080/",
          "height": 444
        },
        "id": "XtxOIHQORnu0",
        "outputId": "e960cb9c-ab5b-4633-a43c-8af945567410"
      },
      "execution_count": 22,
      "outputs": [
        {
          "output_type": "execute_result",
          "data": {
            "text/plain": [
              "   match_id                   league  match_date    home_team  home_score  \\\n",
              "0    170088  England: Premier League  2005-01-01    Liverpool           0   \n",
              "1    170089  England: Premier League  2005-01-01       Fulham           3   \n",
              "2    170090  England: Premier League  2005-01-01  Aston Villa           1   \n",
              "3    170091  England: Premier League  2005-01-01       Bolton           1   \n",
              "4    170092  England: Premier League  2005-01-01     Charlton           1   \n",
              "\n",
              "        away_team  away_score  avg_odds_home_win  avg_odds_draw  \\\n",
              "0         Chelsea           1             2.9944         3.1944   \n",
              "1  Crystal Palace           1             1.9456         3.2333   \n",
              "2       Blackburn           0             1.8522         3.2611   \n",
              "3       West Brom           1             1.6122         3.4133   \n",
              "4         Arsenal           3             5.9878         3.4778   \n",
              "\n",
              "   avg_odds_away_win  max_odds_home_win  max_odds_draw  max_odds_away_win  \\\n",
              "0             2.2256               3.20           3.25               2.29   \n",
              "1             3.6722               2.04           3.30               4.15   \n",
              "2             4.0144               2.00           3.40               4.50   \n",
              "3             5.4722               1.67           3.57               6.27   \n",
              "4             1.5567               7.00           3.60               1.62   \n",
              "\n",
              "  top_bookie_home_win  top_bookie_draw top_bookie_away_win  n_odds_home_win  \\\n",
              "0         Paddy Power      Sportingbet              Expekt                9   \n",
              "1     Pinnacle Sports      bet-at-home              Expekt                9   \n",
              "2     Pinnacle Sports      Paddy Power         Sportingbet                9   \n",
              "3               Coral  Pinnacle Sports     Pinnacle Sports                9   \n",
              "4              Expekt      Paddy Power              bet365                9   \n",
              "\n",
              "   n_odds_draw  n_odds_away_win  \n",
              "0            9                9  \n",
              "1            9                9  \n",
              "2            9                9  \n",
              "3            9                9  \n",
              "4            9                9  "
            ],
            "text/html": [
              "\n",
              "  <div id=\"df-4abcb356-1679-45b7-8ce4-ab3db6d234cd\">\n",
              "    <div class=\"colab-df-container\">\n",
              "      <div>\n",
              "<style scoped>\n",
              "    .dataframe tbody tr th:only-of-type {\n",
              "        vertical-align: middle;\n",
              "    }\n",
              "\n",
              "    .dataframe tbody tr th {\n",
              "        vertical-align: top;\n",
              "    }\n",
              "\n",
              "    .dataframe thead th {\n",
              "        text-align: right;\n",
              "    }\n",
              "</style>\n",
              "<table border=\"1\" class=\"dataframe\">\n",
              "  <thead>\n",
              "    <tr style=\"text-align: right;\">\n",
              "      <th></th>\n",
              "      <th>match_id</th>\n",
              "      <th>league</th>\n",
              "      <th>match_date</th>\n",
              "      <th>home_team</th>\n",
              "      <th>home_score</th>\n",
              "      <th>away_team</th>\n",
              "      <th>away_score</th>\n",
              "      <th>avg_odds_home_win</th>\n",
              "      <th>avg_odds_draw</th>\n",
              "      <th>avg_odds_away_win</th>\n",
              "      <th>max_odds_home_win</th>\n",
              "      <th>max_odds_draw</th>\n",
              "      <th>max_odds_away_win</th>\n",
              "      <th>top_bookie_home_win</th>\n",
              "      <th>top_bookie_draw</th>\n",
              "      <th>top_bookie_away_win</th>\n",
              "      <th>n_odds_home_win</th>\n",
              "      <th>n_odds_draw</th>\n",
              "      <th>n_odds_away_win</th>\n",
              "    </tr>\n",
              "  </thead>\n",
              "  <tbody>\n",
              "    <tr>\n",
              "      <th>0</th>\n",
              "      <td>170088</td>\n",
              "      <td>England: Premier League</td>\n",
              "      <td>2005-01-01</td>\n",
              "      <td>Liverpool</td>\n",
              "      <td>0</td>\n",
              "      <td>Chelsea</td>\n",
              "      <td>1</td>\n",
              "      <td>2.9944</td>\n",
              "      <td>3.1944</td>\n",
              "      <td>2.2256</td>\n",
              "      <td>3.20</td>\n",
              "      <td>3.25</td>\n",
              "      <td>2.29</td>\n",
              "      <td>Paddy Power</td>\n",
              "      <td>Sportingbet</td>\n",
              "      <td>Expekt</td>\n",
              "      <td>9</td>\n",
              "      <td>9</td>\n",
              "      <td>9</td>\n",
              "    </tr>\n",
              "    <tr>\n",
              "      <th>1</th>\n",
              "      <td>170089</td>\n",
              "      <td>England: Premier League</td>\n",
              "      <td>2005-01-01</td>\n",
              "      <td>Fulham</td>\n",
              "      <td>3</td>\n",
              "      <td>Crystal Palace</td>\n",
              "      <td>1</td>\n",
              "      <td>1.9456</td>\n",
              "      <td>3.2333</td>\n",
              "      <td>3.6722</td>\n",
              "      <td>2.04</td>\n",
              "      <td>3.30</td>\n",
              "      <td>4.15</td>\n",
              "      <td>Pinnacle Sports</td>\n",
              "      <td>bet-at-home</td>\n",
              "      <td>Expekt</td>\n",
              "      <td>9</td>\n",
              "      <td>9</td>\n",
              "      <td>9</td>\n",
              "    </tr>\n",
              "    <tr>\n",
              "      <th>2</th>\n",
              "      <td>170090</td>\n",
              "      <td>England: Premier League</td>\n",
              "      <td>2005-01-01</td>\n",
              "      <td>Aston Villa</td>\n",
              "      <td>1</td>\n",
              "      <td>Blackburn</td>\n",
              "      <td>0</td>\n",
              "      <td>1.8522</td>\n",
              "      <td>3.2611</td>\n",
              "      <td>4.0144</td>\n",
              "      <td>2.00</td>\n",
              "      <td>3.40</td>\n",
              "      <td>4.50</td>\n",
              "      <td>Pinnacle Sports</td>\n",
              "      <td>Paddy Power</td>\n",
              "      <td>Sportingbet</td>\n",
              "      <td>9</td>\n",
              "      <td>9</td>\n",
              "      <td>9</td>\n",
              "    </tr>\n",
              "    <tr>\n",
              "      <th>3</th>\n",
              "      <td>170091</td>\n",
              "      <td>England: Premier League</td>\n",
              "      <td>2005-01-01</td>\n",
              "      <td>Bolton</td>\n",
              "      <td>1</td>\n",
              "      <td>West Brom</td>\n",
              "      <td>1</td>\n",
              "      <td>1.6122</td>\n",
              "      <td>3.4133</td>\n",
              "      <td>5.4722</td>\n",
              "      <td>1.67</td>\n",
              "      <td>3.57</td>\n",
              "      <td>6.27</td>\n",
              "      <td>Coral</td>\n",
              "      <td>Pinnacle Sports</td>\n",
              "      <td>Pinnacle Sports</td>\n",
              "      <td>9</td>\n",
              "      <td>9</td>\n",
              "      <td>9</td>\n",
              "    </tr>\n",
              "    <tr>\n",
              "      <th>4</th>\n",
              "      <td>170092</td>\n",
              "      <td>England: Premier League</td>\n",
              "      <td>2005-01-01</td>\n",
              "      <td>Charlton</td>\n",
              "      <td>1</td>\n",
              "      <td>Arsenal</td>\n",
              "      <td>3</td>\n",
              "      <td>5.9878</td>\n",
              "      <td>3.4778</td>\n",
              "      <td>1.5567</td>\n",
              "      <td>7.00</td>\n",
              "      <td>3.60</td>\n",
              "      <td>1.62</td>\n",
              "      <td>Expekt</td>\n",
              "      <td>Paddy Power</td>\n",
              "      <td>bet365</td>\n",
              "      <td>9</td>\n",
              "      <td>9</td>\n",
              "      <td>9</td>\n",
              "    </tr>\n",
              "  </tbody>\n",
              "</table>\n",
              "</div>\n",
              "      <button class=\"colab-df-convert\" onclick=\"convertToInteractive('df-4abcb356-1679-45b7-8ce4-ab3db6d234cd')\"\n",
              "              title=\"Convert this dataframe to an interactive table.\"\n",
              "              style=\"display:none;\">\n",
              "        \n",
              "  <svg xmlns=\"http://www.w3.org/2000/svg\" height=\"24px\"viewBox=\"0 0 24 24\"\n",
              "       width=\"24px\">\n",
              "    <path d=\"M0 0h24v24H0V0z\" fill=\"none\"/>\n",
              "    <path d=\"M18.56 5.44l.94 2.06.94-2.06 2.06-.94-2.06-.94-.94-2.06-.94 2.06-2.06.94zm-11 1L8.5 8.5l.94-2.06 2.06-.94-2.06-.94L8.5 2.5l-.94 2.06-2.06.94zm10 10l.94 2.06.94-2.06 2.06-.94-2.06-.94-.94-2.06-.94 2.06-2.06.94z\"/><path d=\"M17.41 7.96l-1.37-1.37c-.4-.4-.92-.59-1.43-.59-.52 0-1.04.2-1.43.59L10.3 9.45l-7.72 7.72c-.78.78-.78 2.05 0 2.83L4 21.41c.39.39.9.59 1.41.59.51 0 1.02-.2 1.41-.59l7.78-7.78 2.81-2.81c.8-.78.8-2.07 0-2.86zM5.41 20L4 18.59l7.72-7.72 1.47 1.35L5.41 20z\"/>\n",
              "  </svg>\n",
              "      </button>\n",
              "      \n",
              "  <style>\n",
              "    .colab-df-container {\n",
              "      display:flex;\n",
              "      flex-wrap:wrap;\n",
              "      gap: 12px;\n",
              "    }\n",
              "\n",
              "    .colab-df-convert {\n",
              "      background-color: #E8F0FE;\n",
              "      border: none;\n",
              "      border-radius: 50%;\n",
              "      cursor: pointer;\n",
              "      display: none;\n",
              "      fill: #1967D2;\n",
              "      height: 32px;\n",
              "      padding: 0 0 0 0;\n",
              "      width: 32px;\n",
              "    }\n",
              "\n",
              "    .colab-df-convert:hover {\n",
              "      background-color: #E2EBFA;\n",
              "      box-shadow: 0px 1px 2px rgba(60, 64, 67, 0.3), 0px 1px 3px 1px rgba(60, 64, 67, 0.15);\n",
              "      fill: #174EA6;\n",
              "    }\n",
              "\n",
              "    [theme=dark] .colab-df-convert {\n",
              "      background-color: #3B4455;\n",
              "      fill: #D2E3FC;\n",
              "    }\n",
              "\n",
              "    [theme=dark] .colab-df-convert:hover {\n",
              "      background-color: #434B5C;\n",
              "      box-shadow: 0px 1px 3px 1px rgba(0, 0, 0, 0.15);\n",
              "      filter: drop-shadow(0px 1px 2px rgba(0, 0, 0, 0.3));\n",
              "      fill: #FFFFFF;\n",
              "    }\n",
              "  </style>\n",
              "\n",
              "      <script>\n",
              "        const buttonEl =\n",
              "          document.querySelector('#df-4abcb356-1679-45b7-8ce4-ab3db6d234cd button.colab-df-convert');\n",
              "        buttonEl.style.display =\n",
              "          google.colab.kernel.accessAllowed ? 'block' : 'none';\n",
              "\n",
              "        async function convertToInteractive(key) {\n",
              "          const element = document.querySelector('#df-4abcb356-1679-45b7-8ce4-ab3db6d234cd');\n",
              "          const dataTable =\n",
              "            await google.colab.kernel.invokeFunction('convertToInteractive',\n",
              "                                                     [key], {});\n",
              "          if (!dataTable) return;\n",
              "\n",
              "          const docLinkHtml = 'Like what you see? Visit the ' +\n",
              "            '<a target=\"_blank\" href=https://colab.research.google.com/notebooks/data_table.ipynb>data table notebook</a>'\n",
              "            + ' to learn more about interactive tables.';\n",
              "          element.innerHTML = '';\n",
              "          dataTable['output_type'] = 'display_data';\n",
              "          await google.colab.output.renderOutput(dataTable, element);\n",
              "          const docLink = document.createElement('div');\n",
              "          docLink.innerHTML = docLinkHtml;\n",
              "          element.appendChild(docLink);\n",
              "        }\n",
              "      </script>\n",
              "    </div>\n",
              "  </div>\n",
              "  "
            ]
          },
          "metadata": {},
          "execution_count": 22
        }
      ]
    },
    {
      "cell_type": "code",
      "source": [
        "# calculate the Kelly criterion column\n",
        "subset = df[['match_id','home_score','away_score','max_odds_home_win']]\n",
        "subset['home_win'] = np.where(subset['home_score'] > subset['away_score'], True, False) # outcome column\n",
        "subset['p_cons'] =  1/df['avg_odds_home_win'] #probability of an event happening\n",
        "p_unfavorable_cons = 1 - subset['p_cons'] \n",
        "b = df['max_odds_home_win'] # ?\n",
        "subset['kelly_criterion_percent'] = subset['p_cons'] - (p_unfavorable_cons / b)\n",
        "# subset['p_cons']"
      ],
      "metadata": {
        "colab": {
          "base_uri": "https://localhost:8080/"
        },
        "id": "snQqqaaWRpyZ",
        "outputId": "bc25bf97-940d-42ba-dac2-d14795050131"
      },
      "execution_count": 23,
      "outputs": [
        {
          "output_type": "stream",
          "name": "stderr",
          "text": [
            "<ipython-input-23-85dfd3aba3b1>:3: SettingWithCopyWarning: \n",
            "A value is trying to be set on a copy of a slice from a DataFrame.\n",
            "Try using .loc[row_indexer,col_indexer] = value instead\n",
            "\n",
            "See the caveats in the documentation: https://pandas.pydata.org/pandas-docs/stable/user_guide/indexing.html#returning-a-view-versus-a-copy\n",
            "  subset['home_win'] = np.where(subset['home_score'] > subset['away_score'], True, False) # outcome column\n",
            "<ipython-input-23-85dfd3aba3b1>:4: SettingWithCopyWarning: \n",
            "A value is trying to be set on a copy of a slice from a DataFrame.\n",
            "Try using .loc[row_indexer,col_indexer] = value instead\n",
            "\n",
            "See the caveats in the documentation: https://pandas.pydata.org/pandas-docs/stable/user_guide/indexing.html#returning-a-view-versus-a-copy\n",
            "  subset['p_cons'] =  1/df['avg_odds_home_win'] #probability of an event happening\n",
            "<ipython-input-23-85dfd3aba3b1>:7: SettingWithCopyWarning: \n",
            "A value is trying to be set on a copy of a slice from a DataFrame.\n",
            "Try using .loc[row_indexer,col_indexer] = value instead\n",
            "\n",
            "See the caveats in the documentation: https://pandas.pydata.org/pandas-docs/stable/user_guide/indexing.html#returning-a-view-versus-a-copy\n",
            "  subset['kelly_criterion_percent'] = subset['p_cons'] - (p_unfavorable_cons / b)\n"
          ]
        }
      ]
    },
    {
      "cell_type": "code",
      "source": [
        "# Calculating the expected payout for each game\n",
        "alpha = .034 #constant that depends on victory (0.034 for home win)\n",
        "omega = df['max_odds_home_win'] # odds paid out by the bookmaker\n",
        "subset['E(pi)'] = (subset['p_cons'] - alpha) * omega-1 #\n",
        "# print(subset.shape, subset.columns)"
      ],
      "metadata": {
        "colab": {
          "base_uri": "https://localhost:8080/"
        },
        "id": "sq2LIfiVRsFF",
        "outputId": "8b8792ac-c8a7-4011-8c37-598aecc46b10"
      },
      "execution_count": 24,
      "outputs": [
        {
          "output_type": "stream",
          "name": "stderr",
          "text": [
            "<ipython-input-24-8239cdd5f15f>:4: SettingWithCopyWarning: \n",
            "A value is trying to be set on a copy of a slice from a DataFrame.\n",
            "Try using .loc[row_indexer,col_indexer] = value instead\n",
            "\n",
            "See the caveats in the documentation: https://pandas.pydata.org/pandas-docs/stable/user_guide/indexing.html#returning-a-view-versus-a-copy\n",
            "  subset['E(pi)'] = (subset['p_cons'] - alpha) * omega-1 #\n"
          ]
        }
      ]
    },
    {
      "cell_type": "code",
      "source": [
        "from pickle import TRUE\n",
        "# create a column that holds booleans corresponding to when to place a bet \n",
        "subset['place_bet'] = np.where(subset['E(pi)'] > 0, True, False) # outcome column"
      ],
      "metadata": {
        "colab": {
          "base_uri": "https://localhost:8080/"
        },
        "id": "UNEvLj1xRug5",
        "outputId": "49c648b9-18e9-406f-f24c-9e85d0d59c65"
      },
      "execution_count": 25,
      "outputs": [
        {
          "output_type": "stream",
          "name": "stderr",
          "text": [
            "<ipython-input-25-db0d4597c335>:3: SettingWithCopyWarning: \n",
            "A value is trying to be set on a copy of a slice from a DataFrame.\n",
            "Try using .loc[row_indexer,col_indexer] = value instead\n",
            "\n",
            "See the caveats in the documentation: https://pandas.pydata.org/pandas-docs/stable/user_guide/indexing.html#returning-a-view-versus-a-copy\n",
            "  subset['place_bet'] = np.where(subset['E(pi)'] > 0, True, False) # outcome column\n"
          ]
        }
      ]
    },
    {
      "cell_type": "code",
      "source": [
        "# Calculate profit for Kelly criterion \n",
        "initial_wealth_2 = 500\n",
        "wealth_2 = []\n",
        "subset_2 = subset\n",
        "starting_salary = initial_wealth_2 * len(subset_2)\n",
        "for i in range(len(subset)):\n",
        "  \n",
        "  if subset['place_bet'][i] == True: \n",
        "    if subset['home_win'][i] == True:\n",
        "      # bet placed and won, wealth then gets increased by bet payout\n",
        "        wealth_2.append(initial_wealth_2 * subset_2['kelly_criterion_percent'][i] * subset_2['max_odds_home_win'][i] + ( initial_wealth_2 - (initial_wealth_2 * subset_2['kelly_criterion_percent'][i])))\n",
        "    else:\n",
        "        # bet placed and lost, wealth decreases by amount bet\n",
        "        wealth_2.append(initial_wealth_2 - (initial_wealth_2 * subset_2['kelly_criterion_percent'][i]))\n",
        "      \n",
        "  else:\n",
        "      # bet not placed, we keep the 500 dollars that would have been bet\n",
        "      wealth_2.append(500)\n",
        "\n",
        "# add the wealth for the kelly criterion to the dataset\n",
        "subset['wealth'] = wealth_2"
      ],
      "metadata": {
        "colab": {
          "base_uri": "https://localhost:8080/"
        },
        "id": "Sildww5cRwjH",
        "outputId": "6c9e7832-5e74-44e9-8c30-cbfd3c5a4e54"
      },
      "execution_count": 26,
      "outputs": [
        {
          "output_type": "stream",
          "name": "stderr",
          "text": [
            "<ipython-input-26-a9fddf2aada2>:21: SettingWithCopyWarning: \n",
            "A value is trying to be set on a copy of a slice from a DataFrame.\n",
            "Try using .loc[row_indexer,col_indexer] = value instead\n",
            "\n",
            "See the caveats in the documentation: https://pandas.pydata.org/pandas-docs/stable/user_guide/indexing.html#returning-a-view-versus-a-copy\n",
            "  subset['wealth'] = wealth_2\n"
          ]
        }
      ]
    },
    {
      "cell_type": "code",
      "source": [
        "# calculate the total profit\n",
        "print(sum(subset_2['wealth']) - starting_salary)"
      ],
      "metadata": {
        "colab": {
          "base_uri": "https://localhost:8080/"
        },
        "id": "bBCgWi7WR0z7",
        "outputId": "a1c77700-d2c9-4be8-e429-07e63180abf1"
      },
      "execution_count": 27,
      "outputs": [
        {
          "output_type": "stream",
          "name": "stdout",
          "text": [
            "319204.91723391414\n"
          ]
        }
      ]
    },
    {
      "cell_type": "code",
      "source": [
        "# modern portfolio theory calculation\n",
        "# change the place_bet to be different here\n",
        "\n",
        "# define the thresholds being tested\n",
        "thresholds = [.05,.1,.15,.25,.45]\n",
        "# define dictionary to hold lists to be plotted\n",
        "plotting_dictionary = {}\n",
        "plot_types = ['.','o','p','^','+']\n",
        "# define flat amount of wealth that will be used for the bet amount when placing a bet\n",
        "bet_percentage = .1\n",
        "initial_wealth_mpt = 500\n",
        "subset_mpt = subset\n",
        "for threshold in thresholds:\n",
        "  # instantiate variables\n",
        "  bet_counter = 0\n",
        "  wealth_mpt = []\n",
        "  wealth_mpt_for_dataset = []\n",
        "  place_bet_mpt = []\n",
        "  # bet 1% of wealth on game if the outcome of the bet winning is greater than or equal increasing the wealth by 10% of the portfolio \n",
        "  for i in range(len(subset_mpt)):\n",
        "    # if we are evaluating the first game to see if we should bet on it\n",
        "    if len(wealth_mpt) == 0:\n",
        "      percentage_increase = bet_percentage * initial_wealth_mpt * subset_mpt['max_odds_home_win'][i] / (initial_wealth_mpt + bet_percentage * initial_wealth_mpt * subset_mpt['max_odds_home_win'][i])\n",
        "      # if the potential increase in wealth is greater than the threshold and our number of bets is less than our bet threshold\n",
        "      if percentage_increase > threshold and bet_counter < 500:\n",
        "        place_bet_mpt.append(True)\n",
        "        bet_counter += 1\n",
        "        if subset_mpt['home_win'][i] == True:\n",
        "          # bet placed and won, wealth then gets increased by bet payout\n",
        "          wealth_mpt.append(initial_wealth_mpt + bet_percentage * initial_wealth_mpt * subset_mpt['max_odds_home_win'][i])\n",
        "          wealth_mpt_for_dataset.append(initial_wealth_mpt + bet_percentage * initial_wealth_mpt * subset_mpt['max_odds_home_win'][i])\n",
        "        else:\n",
        "          # bet placed and lost, wealth then decreases by bet\n",
        "          wealth_mpt.append(initial_wealth_mpt - bet_percentage * initial_wealth_mpt)\n",
        "          wealth_mpt_for_dataset.append(initial_wealth_mpt - bet_percentage * initial_wealth_mpt * subset_mpt['max_odds_home_win'][i])\n",
        "      else:\n",
        "        # bet not placed, we keep the initial wealth constant\n",
        "        place_bet_mpt.append(False)\n",
        "        wealth_mpt_for_dataset.append(initial_wealth_mpt)\n",
        "    else:\n",
        "      # if we are evaluating any game other than the first game\n",
        "      percentage_increase = bet_percentage * int(wealth_mpt[-1]) * subset_mpt['max_odds_home_win'][i] / (int(wealth_mpt[-1]) + bet_percentage * int(wealth_mpt[-1]) * subset_mpt['max_odds_home_win'][i])\n",
        "      # if the potential increase in wealth is greater than the threshold and our number of bets is less than our bet threshold\n",
        "      if percentage_increase > threshold and bet_counter < 500:\n",
        "        place_bet_mpt.append(True)\n",
        "        bet_counter += 1\n",
        "        if subset_mpt['home_win'][i] == True:\n",
        "          # bet placed and won, wealth then gets increased by bet payout\n",
        "          wealth_mpt.append(int(wealth_mpt[-1]) + bet_percentage * int(wealth_mpt[-1]) * subset_mpt['max_odds_home_win'][i])\n",
        "          wealth_mpt_for_dataset.append(int(wealth_mpt[-1]) + bet_percentage * int(wealth_mpt[-1]) * subset_mpt['max_odds_home_win'][i])\n",
        "        else: \n",
        "          # bet placed and lost, wealth then decreases by bet\n",
        "          wealth_mpt.append(int(wealth_mpt[-1]) - bet_percentage * int(wealth_mpt[-1])) \n",
        "          wealth_mpt_for_dataset.append(int(wealth_mpt[-1]) - bet_percentage * int(wealth_mpt[-1]) * subset_mpt['max_odds_home_win'][i])\n",
        "      else:\n",
        "        # bet not placed, we keep the initial wealth constant\n",
        "        place_bet_mpt.append(False)\n",
        "        wealth_mpt_for_dataset.append(int(wealth_mpt[-1]))\n",
        "\n",
        "  place_bet_column_name = f'place_bet_mpt_{threshold}'\n",
        "  wealth_column_name = f'wealth_for_{threshold}_mpt'\n",
        "  # adding information to the subset dataframe\n",
        "  subset[place_bet_column_name] = place_bet_mpt\n",
        "  subset[wealth_column_name] = wealth_mpt_for_dataset\n",
        "  index = thresholds.index(threshold)\n",
        "  # adding wealth list for that threshold to the plotting dictionary\n",
        "  plotting_dictionary[plot_types[index]] = wealth_mpt"
      ],
      "metadata": {
        "id": "7OqyyDerUh6i",
        "colab": {
          "base_uri": "https://localhost:8080/"
        },
        "outputId": "b81f0ebb-f7a0-42b9-8436-b6db55616f4b"
      },
      "execution_count": 28,
      "outputs": [
        {
          "output_type": "stream",
          "name": "stderr",
          "text": [
            "<ipython-input-28-b49eb686539e>:63: SettingWithCopyWarning: \n",
            "A value is trying to be set on a copy of a slice from a DataFrame.\n",
            "Try using .loc[row_indexer,col_indexer] = value instead\n",
            "\n",
            "See the caveats in the documentation: https://pandas.pydata.org/pandas-docs/stable/user_guide/indexing.html#returning-a-view-versus-a-copy\n",
            "  subset[place_bet_column_name] = place_bet_mpt\n",
            "<ipython-input-28-b49eb686539e>:64: SettingWithCopyWarning: \n",
            "A value is trying to be set on a copy of a slice from a DataFrame.\n",
            "Try using .loc[row_indexer,col_indexer] = value instead\n",
            "\n",
            "See the caveats in the documentation: https://pandas.pydata.org/pandas-docs/stable/user_guide/indexing.html#returning-a-view-versus-a-copy\n",
            "  subset[wealth_column_name] = wealth_mpt_for_dataset\n",
            "<ipython-input-28-b49eb686539e>:63: SettingWithCopyWarning: \n",
            "A value is trying to be set on a copy of a slice from a DataFrame.\n",
            "Try using .loc[row_indexer,col_indexer] = value instead\n",
            "\n",
            "See the caveats in the documentation: https://pandas.pydata.org/pandas-docs/stable/user_guide/indexing.html#returning-a-view-versus-a-copy\n",
            "  subset[place_bet_column_name] = place_bet_mpt\n",
            "<ipython-input-28-b49eb686539e>:64: SettingWithCopyWarning: \n",
            "A value is trying to be set on a copy of a slice from a DataFrame.\n",
            "Try using .loc[row_indexer,col_indexer] = value instead\n",
            "\n",
            "See the caveats in the documentation: https://pandas.pydata.org/pandas-docs/stable/user_guide/indexing.html#returning-a-view-versus-a-copy\n",
            "  subset[wealth_column_name] = wealth_mpt_for_dataset\n",
            "<ipython-input-28-b49eb686539e>:63: SettingWithCopyWarning: \n",
            "A value is trying to be set on a copy of a slice from a DataFrame.\n",
            "Try using .loc[row_indexer,col_indexer] = value instead\n",
            "\n",
            "See the caveats in the documentation: https://pandas.pydata.org/pandas-docs/stable/user_guide/indexing.html#returning-a-view-versus-a-copy\n",
            "  subset[place_bet_column_name] = place_bet_mpt\n",
            "<ipython-input-28-b49eb686539e>:64: SettingWithCopyWarning: \n",
            "A value is trying to be set on a copy of a slice from a DataFrame.\n",
            "Try using .loc[row_indexer,col_indexer] = value instead\n",
            "\n",
            "See the caveats in the documentation: https://pandas.pydata.org/pandas-docs/stable/user_guide/indexing.html#returning-a-view-versus-a-copy\n",
            "  subset[wealth_column_name] = wealth_mpt_for_dataset\n",
            "<ipython-input-28-b49eb686539e>:42: RuntimeWarning: invalid value encountered in double_scalars\n",
            "  percentage_increase = bet_percentage * int(wealth_mpt[-1]) * subset_mpt['max_odds_home_win'][i] / (int(wealth_mpt[-1]) + bet_percentage * int(wealth_mpt[-1]) * subset_mpt['max_odds_home_win'][i])\n",
            "<ipython-input-28-b49eb686539e>:63: SettingWithCopyWarning: \n",
            "A value is trying to be set on a copy of a slice from a DataFrame.\n",
            "Try using .loc[row_indexer,col_indexer] = value instead\n",
            "\n",
            "See the caveats in the documentation: https://pandas.pydata.org/pandas-docs/stable/user_guide/indexing.html#returning-a-view-versus-a-copy\n",
            "  subset[place_bet_column_name] = place_bet_mpt\n",
            "<ipython-input-28-b49eb686539e>:64: SettingWithCopyWarning: \n",
            "A value is trying to be set on a copy of a slice from a DataFrame.\n",
            "Try using .loc[row_indexer,col_indexer] = value instead\n",
            "\n",
            "See the caveats in the documentation: https://pandas.pydata.org/pandas-docs/stable/user_guide/indexing.html#returning-a-view-versus-a-copy\n",
            "  subset[wealth_column_name] = wealth_mpt_for_dataset\n",
            "<ipython-input-28-b49eb686539e>:42: RuntimeWarning: invalid value encountered in double_scalars\n",
            "  percentage_increase = bet_percentage * int(wealth_mpt[-1]) * subset_mpt['max_odds_home_win'][i] / (int(wealth_mpt[-1]) + bet_percentage * int(wealth_mpt[-1]) * subset_mpt['max_odds_home_win'][i])\n"
          ]
        }
      ]
    },
    {
      "cell_type": "code",
      "source": [
        "# plotting wealth progression for a threshold of .15 for MPT strategy\n",
        "import matplotlib.pyplot as plt\n",
        "print('Overall profit for a threshold of .15: ', plotting_dictionary['p'][-1])\n",
        "print('Average profit gained per bet: ', (plotting_dictionary['p'][-1] - 500) / len(plotting_dictionary['p']))\n",
        "plt.plot(plotting_dictionary['p'], 'p', label='.15')\n",
        "plt.legend(loc='upper left')\n",
        "plt.title('MPT wealth progression: Threshold .15')\n",
        "plt.xlabel('Number of bets placed')\n",
        "plt.ylabel('Total wealth')\n",
        "plt.savefig('340wProject/MPTWealthProgression_.15.png')\n",
        "plt.show()"
      ],
      "metadata": {
        "colab": {
          "base_uri": "https://localhost:8080/",
          "height": 508
        },
        "id": "R_UurA1zo6NN",
        "outputId": "5ab60182-6bfa-475f-8460-997f1018001d"
      },
      "execution_count": 29,
      "outputs": [
        {
          "output_type": "stream",
          "name": "stdout",
          "text": [
            "Overall profit for a threshold of .15:  1785623.4\n",
            "Average profit gained per bet:  3570.2468\n"
          ]
        },
        {
          "output_type": "display_data",
          "data": {
            "text/plain": [
              "<Figure size 640x480 with 1 Axes>"
            ],
            "image/png": "[encoded data removed]"
          },
          "metadata": {}
        }
      ]
    },
    {
      "cell_type": "code",
      "source": [
        "# plotting wealth progression for a threshold of .25 and .45 for MPT strategy\n",
        "print('Overall profit for a threshold of .25: ', plotting_dictionary['^'][-1])\n",
        "print('Average profit gained per bet for a threshold of .25: ', (plotting_dictionary['^'][-1] - 500) / len(plotting_dictionary['^']))\n",
        "print('Overall profit for a threshold of .45: ', plotting_dictionary['+'][-1])\n",
        "print('Average profit gained per bet for a threshold of .45: ', (plotting_dictionary['+'][-1] - 500) / len(plotting_dictionary['+']))\n",
        "plt.plot(plotting_dictionary['^'], '^', label='.25')\n",
        "plt.plot(plotting_dictionary['+'], '+', label='.45')\n",
        "plt.legend(loc='upper left')\n",
        "plt.title('MPT wealth progression: Thresholds .25 and .45')\n",
        "plt.xlabel('Number of bets placed')\n",
        "plt.ylabel('Total wealth')\n",
        "plt.savefig('340wProject/MPTWealthProgression_.25_.45.png')\n",
        "plt.show()"
      ],
      "metadata": {
        "colab": {
          "base_uri": "https://localhost:8080/",
          "height": 543
        },
        "id": "JVYJRKhzg4uW",
        "outputId": "200562de-54ee-4a4e-f8d0-0cee10a8539b"
      },
      "execution_count": 30,
      "outputs": [
        {
          "output_type": "stream",
          "name": "stdout",
          "text": [
            "Overall profit for a threshold of .25:  0.9\n",
            "Average profit gained per bet for a threshold of .25:  -3.1\n",
            "Overall profit for a threshold of .45:  0.9\n",
            "Average profit gained per bet for a threshold of .45:  -10.185714285714287\n"
          ]
        },
        {
          "output_type": "display_data",
          "data": {
            "text/plain": [
              "<Figure size 640x480 with 1 Axes>"
            ],
            "image/png": "[encoded data removed]"
          },
          "metadata": {}
        }
      ]
    },
    {
      "cell_type": "code",
      "source": [
        "# plotting wealth progression for a threshold of .05 and .1 for MPT strategy\n",
        "print('Overall profit for a threshold of .05: ', plotting_dictionary['.'][-1])\n",
        "print('Average profit gained per bet for a threshold of .05: ', (plotting_dictionary['.'][-1] - 500) / len(plotting_dictionary['.']))\n",
        "print('Overall profit for a threshold of .10: ', plotting_dictionary['o'][-1])\n",
        "print('Average profit gained per bet for a threshold of .10: ', (plotting_dictionary['o'][-1] - 500) / len(plotting_dictionary['o']))\n",
        "plt.plot(plotting_dictionary['.'], '.', label='.05')\n",
        "plt.plot(plotting_dictionary['o'], 'o', label='.1')\n",
        "plt.legend(loc='upper left')\n",
        "plt.title('MPT wealth progression: Thresholds .05 and .1')\n",
        "plt.xlabel('Number of bets placed')\n",
        "plt.ylabel('Total wealth')\n",
        "plt.savefig('340wProject/MPTWealthProgression_.05_.1.png')\n",
        "plt.show()"
      ],
      "metadata": {
        "colab": {
          "base_uri": "https://localhost:8080/",
          "height": 543
        },
        "id": "RM0RpPPvo63e",
        "outputId": "d102b8d1-a74f-48a4-f5f7-30ab530a4b0e"
      },
      "execution_count": 31,
      "outputs": [
        {
          "output_type": "stream",
          "name": "stdout",
          "text": [
            "Overall profit for a threshold of .05:  945561421.8\n",
            "Average profit gained per bet for a threshold of .05:  1891121.8435999998\n",
            "Overall profit for a threshold of .10:  865827275.04\n",
            "Average profit gained per bet for a threshold of .10:  1731653.55008\n"
          ]
        },
        {
          "output_type": "display_data",
          "data": {
            "text/plain": [
              "<Figure size 640x480 with 1 Axes>"
            ],
            "image/png": "[encoded data removed]"
          },
          "metadata": {}
        }
      ]
    },
    {
      "cell_type": "code",
      "source": [
        "# Maximum kelly fractional criterion calculation\n",
        "subset['kelly_frac_max'] = np.where(subset['kelly_criterion_percent'] < 0.5, True, False) # outcome column\n",
        "display(subset)\n"
      ],
      "metadata": {
        "colab": {
          "base_uri": "https://localhost:8080/",
          "height": 488
        },
        "id": "Ldb8V5SGx6WF",
        "outputId": "1bdb99a7-59bb-4e08-d414-11e0ec1fb9b8"
      },
      "execution_count": 32,
      "outputs": [
        {
          "output_type": "display_data",
          "data": {
            "text/plain": [
              "        match_id  home_score  away_score  max_odds_home_win  home_win  \\\n",
              "0         170088           0           1               3.20     False   \n",
              "1         170089           3           1               2.04      True   \n",
              "2         170090           1           0               2.00      True   \n",
              "3         170091           1           1               1.67     False   \n",
              "4         170092           1           3               7.00     False   \n",
              "...          ...         ...         ...                ...       ...   \n",
              "479435    876806           1           2               1.83     False   \n",
              "479436    876807           1           1              19.00     False   \n",
              "479437    876808           0           5              22.00     False   \n",
              "479438    876809           0           3              34.00     False   \n",
              "479439    876812           0           0               5.46     False   \n",
              "\n",
              "          p_cons  kelly_criterion_percent     E(pi)  place_bet      wealth  \\\n",
              "0       0.333957                 0.125818 -0.040138      False  500.000000   \n",
              "1       0.513980                 0.275735 -0.020840      False  500.000000   \n",
              "2       0.539898                 0.309848  0.011797       True  654.923874   \n",
              "3       0.620270                 0.392887 -0.020928      False  500.000000   \n",
              "4       0.167006                 0.048007 -0.068956      False  500.000000   \n",
              "...          ...                      ...       ...        ...         ...   \n",
              "479435  0.593895                 0.371979  0.024607       True  314.010334   \n",
              "479436  0.076240                 0.027621 -0.197443      False  500.000000   \n",
              "479437  0.058053                 0.015237 -0.470831      False  500.000000   \n",
              "479438  0.063636                 0.036096  0.007634       True  481.951901   \n",
              "479439  0.212112                 0.067810 -0.027511      False  500.000000   \n",
              "\n",
              "        ...  wealth_for_0.05_mpt  place_bet_mpt_0.1  wealth_for_0.1_mpt  \\\n",
              "0       ...         3.400000e+02               True        3.400000e+02   \n",
              "1       ...         6.513640e+02               True        6.513640e+02   \n",
              "2       ...         7.788000e+02               True        7.788000e+02   \n",
              "3       ...         4.864720e+02               True        4.864720e+02   \n",
              "4       ...         1.575000e+02               True        1.575000e+02   \n",
              "...     ...                  ...                ...                 ...   \n",
              "479435  ...         9.455614e+08              False        8.658273e+08   \n",
              "479436  ...         9.455614e+08              False        8.658273e+08   \n",
              "479437  ...         9.455614e+08              False        8.658273e+08   \n",
              "479438  ...         9.455614e+08              False        8.658273e+08   \n",
              "479439  ...         9.455614e+08              False        8.658273e+08   \n",
              "\n",
              "        place_bet_mpt_0.15  wealth_for_0.15_mpt  place_bet_mpt_0.25  \\\n",
              "0                     True              340.000               False   \n",
              "1                     True              651.364               False   \n",
              "2                     True              778.800               False   \n",
              "3                    False              649.000               False   \n",
              "4                     True              175.200                True   \n",
              "...                    ...                  ...                 ...   \n",
              "479435               False          1785623.000               False   \n",
              "479436               False          1785623.000               False   \n",
              "479437               False          1785623.000               False   \n",
              "479438               False          1785623.000               False   \n",
              "479439               False          1785623.000               False   \n",
              "\n",
              "        wealth_for_0.25_mpt  place_bet_mpt_0.45  wealth_for_0.45_mpt  \\\n",
              "0                     500.0               False                500.0   \n",
              "1                     500.0               False                500.0   \n",
              "2                     500.0               False                500.0   \n",
              "3                     500.0               False                500.0   \n",
              "4                     150.0               False                500.0   \n",
              "...                     ...                 ...                  ...   \n",
              "479435                  0.0               False                  0.0   \n",
              "479436                  0.0               False                  0.0   \n",
              "479437                  0.0               False                  0.0   \n",
              "479438                  0.0               False                  0.0   \n",
              "479439                  0.0               False                  0.0   \n",
              "\n",
              "        kelly_frac_max  \n",
              "0                 True  \n",
              "1                 True  \n",
              "2                 True  \n",
              "3                 True  \n",
              "4                 True  \n",
              "...                ...  \n",
              "479435            True  \n",
              "479436            True  \n",
              "479437            True  \n",
              "479438            True  \n",
              "479439            True  \n",
              "\n",
              "[479440 rows x 21 columns]"
            ],
            "text/html": [
              "\n",
              "  <div id=\"df-1bc7b3d8-5706-433a-bb5b-b785f653b926\">\n",
              "    <div class=\"colab-df-container\">\n",
              "      <div>\n",
              "<style scoped>\n",
              "    .dataframe tbody tr th:only-of-type {\n",
              "        vertical-align: middle;\n",
              "    }\n",
              "\n",
              "    .dataframe tbody tr th {\n",
              "        vertical-align: top;\n",
              "    }\n",
              "\n",
              "    .dataframe thead th {\n",
              "        text-align: right;\n",
              "    }\n",
              "</style>\n",
              "<table border=\"1\" class=\"dataframe\">\n",
              "  <thead>\n",
              "    <tr style=\"text-align: right;\">\n",
              "      <th></th>\n",
              "      <th>match_id</th>\n",
              "      <th>home_score</th>\n",
              "      <th>away_score</th>\n",
              "      <th>max_odds_home_win</th>\n",
              "      <th>home_win</th>\n",
              "      <th>p_cons</th>\n",
              "      <th>kelly_criterion_percent</th>\n",
              "      <th>E(pi)</th>\n",
              "      <th>place_bet</th>\n",
              "      <th>wealth</th>\n",
              "      <th>...</th>\n",
              "      <th>wealth_for_0.05_mpt</th>\n",
              "      <th>place_bet_mpt_0.1</th>\n",
              "      <th>wealth_for_0.1_mpt</th>\n",
              "      <th>place_bet_mpt_0.15</th>\n",
              "      <th>wealth_for_0.15_mpt</th>\n",
              "      <th>place_bet_mpt_0.25</th>\n",
              "      <th>wealth_for_0.25_mpt</th>\n",
              "      <th>place_bet_mpt_0.45</th>\n",
              "      <th>wealth_for_0.45_mpt</th>\n",
              "      <th>kelly_frac_max</th>\n",
              "    </tr>\n",
              "  </thead>\n",
              "  <tbody>\n",
              "    <tr>\n",
              "      <th>0</th>\n",
              "      <td>170088</td>\n",
              "      <td>0</td>\n",
              "      <td>1</td>\n",
              "      <td>3.20</td>\n",
              "      <td>False</td>\n",
              "      <td>0.333957</td>\n",
              "      <td>0.125818</td>\n",
              "      <td>-0.040138</td>\n",
              "      <td>False</td>\n",
              "      <td>500.000000</td>\n",
              "      <td>...</td>\n",
              "      <td>3.400000e+02</td>\n",
              "      <td>True</td>\n",
              "      <td>3.400000e+02</td>\n",
              "      <td>True</td>\n",
              "      <td>340.000</td>\n",
              "      <td>False</td>\n",
              "      <td>500.0</td>\n",
              "      <td>False</td>\n",
              "      <td>500.0</td>\n",
              "      <td>True</td>\n",
              "    </tr>\n",
              "    <tr>\n",
              "      <th>1</th>\n",
              "      <td>170089</td>\n",
              "      <td>3</td>\n",
              "      <td>1</td>\n",
              "      <td>2.04</td>\n",
              "      <td>True</td>\n",
              "      <td>0.513980</td>\n",
              "      <td>0.275735</td>\n",
              "      <td>-0.020840</td>\n",
              "      <td>False</td>\n",
              "      <td>500.000000</td>\n",
              "      <td>...</td>\n",
              "      <td>6.513640e+02</td>\n",
              "      <td>True</td>\n",
              "      <td>6.513640e+02</td>\n",
              "      <td>True</td>\n",
              "      <td>651.364</td>\n",
              "      <td>False</td>\n",
              "      <td>500.0</td>\n",
              "      <td>False</td>\n",
              "      <td>500.0</td>\n",
              "      <td>True</td>\n",
              "    </tr>\n",
              "    <tr>\n",
              "      <th>2</th>\n",
              "      <td>170090</td>\n",
              "      <td>1</td>\n",
              "      <td>0</td>\n",
              "      <td>2.00</td>\n",
              "      <td>True</td>\n",
              "      <td>0.539898</td>\n",
              "      <td>0.309848</td>\n",
              "      <td>0.011797</td>\n",
              "      <td>True</td>\n",
              "      <td>654.923874</td>\n",
              "      <td>...</td>\n",
              "      <td>7.788000e+02</td>\n",
              "      <td>True</td>\n",
              "      <td>7.788000e+02</td>\n",
              "      <td>True</td>\n",
              "      <td>778.800</td>\n",
              "      <td>False</td>\n",
              "      <td>500.0</td>\n",
              "      <td>False</td>\n",
              "      <td>500.0</td>\n",
              "      <td>True</td>\n",
              "    </tr>\n",
              "    <tr>\n",
              "      <th>3</th>\n",
              "      <td>170091</td>\n",
              "      <td>1</td>\n",
              "      <td>1</td>\n",
              "      <td>1.67</td>\n",
              "      <td>False</td>\n",
              "      <td>0.620270</td>\n",
              "      <td>0.392887</td>\n",
              "      <td>-0.020928</td>\n",
              "      <td>False</td>\n",
              "      <td>500.000000</td>\n",
              "      <td>...</td>\n",
              "      <td>4.864720e+02</td>\n",
              "      <td>True</td>\n",
              "      <td>4.864720e+02</td>\n",
              "      <td>False</td>\n",
              "      <td>649.000</td>\n",
              "      <td>False</td>\n",
              "      <td>500.0</td>\n",
              "      <td>False</td>\n",
              "      <td>500.0</td>\n",
              "      <td>True</td>\n",
              "    </tr>\n",
              "    <tr>\n",
              "      <th>4</th>\n",
              "      <td>170092</td>\n",
              "      <td>1</td>\n",
              "      <td>3</td>\n",
              "      <td>7.00</td>\n",
              "      <td>False</td>\n",
              "      <td>0.167006</td>\n",
              "      <td>0.048007</td>\n",
              "      <td>-0.068956</td>\n",
              "      <td>False</td>\n",
              "      <td>500.000000</td>\n",
              "      <td>...</td>\n",
              "      <td>1.575000e+02</td>\n",
              "      <td>True</td>\n",
              "      <td>1.575000e+02</td>\n",
              "      <td>True</td>\n",
              "      <td>175.200</td>\n",
              "      <td>True</td>\n",
              "      <td>150.0</td>\n",
              "      <td>False</td>\n",
              "      <td>500.0</td>\n",
              "      <td>True</td>\n",
              "    </tr>\n",
              "    <tr>\n",
              "      <th>...</th>\n",
              "      <td>...</td>\n",
              "      <td>...</td>\n",
              "      <td>...</td>\n",
              "      <td>...</td>\n",
              "      <td>...</td>\n",
              "      <td>...</td>\n",
              "      <td>...</td>\n",
              "      <td>...</td>\n",
              "      <td>...</td>\n",
              "      <td>...</td>\n",
              "      <td>...</td>\n",
              "      <td>...</td>\n",
              "      <td>...</td>\n",
              "      <td>...</td>\n",
              "      <td>...</td>\n",
              "      <td>...</td>\n",
              "      <td>...</td>\n",
              "      <td>...</td>\n",
              "      <td>...</td>\n",
              "      <td>...</td>\n",
              "      <td>...</td>\n",
              "    </tr>\n",
              "    <tr>\n",
              "      <th>479435</th>\n",
              "      <td>876806</td>\n",
              "      <td>1</td>\n",
              "      <td>2</td>\n",
              "      <td>1.83</td>\n",
              "      <td>False</td>\n",
              "      <td>0.593895</td>\n",
              "      <td>0.371979</td>\n",
              "      <td>0.024607</td>\n",
              "      <td>True</td>\n",
              "      <td>314.010334</td>\n",
              "      <td>...</td>\n",
              "      <td>9.455614e+08</td>\n",
              "      <td>False</td>\n",
              "      <td>8.658273e+08</td>\n",
              "      <td>False</td>\n",
              "      <td>1785623.000</td>\n",
              "      <td>False</td>\n",
              "      <td>0.0</td>\n",
              "      <td>False</td>\n",
              "      <td>0.0</td>\n",
              "      <td>True</td>\n",
              "    </tr>\n",
              "    <tr>\n",
              "      <th>479436</th>\n",
              "      <td>876807</td>\n",
              "      <td>1</td>\n",
              "      <td>1</td>\n",
              "      <td>19.00</td>\n",
              "      <td>False</td>\n",
              "      <td>0.076240</td>\n",
              "      <td>0.027621</td>\n",
              "      <td>-0.197443</td>\n",
              "      <td>False</td>\n",
              "      <td>500.000000</td>\n",
              "      <td>...</td>\n",
              "      <td>9.455614e+08</td>\n",
              "      <td>False</td>\n",
              "      <td>8.658273e+08</td>\n",
              "      <td>False</td>\n",
              "      <td>1785623.000</td>\n",
              "      <td>False</td>\n",
              "      <td>0.0</td>\n",
              "      <td>False</td>\n",
              "      <td>0.0</td>\n",
              "      <td>True</td>\n",
              "    </tr>\n",
              "    <tr>\n",
              "      <th>479437</th>\n",
              "      <td>876808</td>\n",
              "      <td>0</td>\n",
              "      <td>5</td>\n",
              "      <td>22.00</td>\n",
              "      <td>False</td>\n",
              "      <td>0.058053</td>\n",
              "      <td>0.015237</td>\n",
              "      <td>-0.470831</td>\n",
              "      <td>False</td>\n",
              "      <td>500.000000</td>\n",
              "      <td>...</td>\n",
              "      <td>9.455614e+08</td>\n",
              "      <td>False</td>\n",
              "      <td>8.658273e+08</td>\n",
              "      <td>False</td>\n",
              "      <td>1785623.000</td>\n",
              "      <td>False</td>\n",
              "      <td>0.0</td>\n",
              "      <td>False</td>\n",
              "      <td>0.0</td>\n",
              "      <td>True</td>\n",
              "    </tr>\n",
              "    <tr>\n",
              "      <th>479438</th>\n",
              "      <td>876809</td>\n",
              "      <td>0</td>\n",
              "      <td>3</td>\n",
              "      <td>34.00</td>\n",
              "      <td>False</td>\n",
              "      <td>0.063636</td>\n",
              "      <td>0.036096</td>\n",
              "      <td>0.007634</td>\n",
              "      <td>True</td>\n",
              "      <td>481.951901</td>\n",
              "      <td>...</td>\n",
              "      <td>9.455614e+08</td>\n",
              "      <td>False</td>\n",
              "      <td>8.658273e+08</td>\n",
              "      <td>False</td>\n",
              "      <td>1785623.000</td>\n",
              "      <td>False</td>\n",
              "      <td>0.0</td>\n",
              "      <td>False</td>\n",
              "      <td>0.0</td>\n",
              "      <td>True</td>\n",
              "    </tr>\n",
              "    <tr>\n",
              "      <th>479439</th>\n",
              "      <td>876812</td>\n",
              "      <td>0</td>\n",
              "      <td>0</td>\n",
              "      <td>5.46</td>\n",
              "      <td>False</td>\n",
              "      <td>0.212112</td>\n",
              "      <td>0.067810</td>\n",
              "      <td>-0.027511</td>\n",
              "      <td>False</td>\n",
              "      <td>500.000000</td>\n",
              "      <td>...</td>\n",
              "      <td>9.455614e+08</td>\n",
              "      <td>False</td>\n",
              "      <td>8.658273e+08</td>\n",
              "      <td>False</td>\n",
              "      <td>1785623.000</td>\n",
              "      <td>False</td>\n",
              "      <td>0.0</td>\n",
              "      <td>False</td>\n",
              "      <td>0.0</td>\n",
              "      <td>True</td>\n",
              "    </tr>\n",
              "  </tbody>\n",
              "</table>\n",
              "<p>479440 rows × 21 columns</p>\n",
              "</div>\n",
              "      <button class=\"colab-df-convert\" onclick=\"convertToInteractive('df-1bc7b3d8-5706-433a-bb5b-b785f653b926')\"\n",
              "              title=\"Convert this dataframe to an interactive table.\"\n",
              "              style=\"display:none;\">\n",
              "        \n",
              "  <svg xmlns=\"http://www.w3.org/2000/svg\" height=\"24px\"viewBox=\"0 0 24 24\"\n",
              "       width=\"24px\">\n",
              "    <path d=\"M0 0h24v24H0V0z\" fill=\"none\"/>\n",
              "    <path d=\"M18.56 5.44l.94 2.06.94-2.06 2.06-.94-2.06-.94-.94-2.06-.94 2.06-2.06.94zm-11 1L8.5 8.5l.94-2.06 2.06-.94-2.06-.94L8.5 2.5l-.94 2.06-2.06.94zm10 10l.94 2.06.94-2.06 2.06-.94-2.06-.94-.94-2.06-.94 2.06-2.06.94z\"/><path d=\"M17.41 7.96l-1.37-1.37c-.4-.4-.92-.59-1.43-.59-.52 0-1.04.2-1.43.59L10.3 9.45l-7.72 7.72c-.78.78-.78 2.05 0 2.83L4 21.41c.39.39.9.59 1.41.59.51 0 1.02-.2 1.41-.59l7.78-7.78 2.81-2.81c.8-.78.8-2.07 0-2.86zM5.41 20L4 18.59l7.72-7.72 1.47 1.35L5.41 20z\"/>\n",
              "  </svg>\n",
              "      </button>\n",
              "      \n",
              "  <style>\n",
              "    .colab-df-container {\n",
              "      display:flex;\n",
              "      flex-wrap:wrap;\n",
              "      gap: 12px;\n",
              "    }\n",
              "\n",
              "    .colab-df-convert {\n",
              "      background-color: #E8F0FE;\n",
              "      border: none;\n",
              "      border-radius: 50%;\n",
              "      cursor: pointer;\n",
              "      display: none;\n",
              "      fill: #1967D2;\n",
              "      height: 32px;\n",
              "      padding: 0 0 0 0;\n",
              "      width: 32px;\n",
              "    }\n",
              "\n",
              "    .colab-df-convert:hover {\n",
              "      background-color: #E2EBFA;\n",
              "      box-shadow: 0px 1px 2px rgba(60, 64, 67, 0.3), 0px 1px 3px 1px rgba(60, 64, 67, 0.15);\n",
              "      fill: #174EA6;\n",
              "    }\n",
              "\n",
              "    [theme=dark] .colab-df-convert {\n",
              "      background-color: #3B4455;\n",
              "      fill: #D2E3FC;\n",
              "    }\n",
              "\n",
              "    [theme=dark] .colab-df-convert:hover {\n",
              "      background-color: #434B5C;\n",
              "      box-shadow: 0px 1px 3px 1px rgba(0, 0, 0, 0.15);\n",
              "      filter: drop-shadow(0px 1px 2px rgba(0, 0, 0, 0.3));\n",
              "      fill: #FFFFFF;\n",
              "    }\n",
              "  </style>\n",
              "\n",
              "      <script>\n",
              "        const buttonEl =\n",
              "          document.querySelector('#df-1bc7b3d8-5706-433a-bb5b-b785f653b926 button.colab-df-convert');\n",
              "        buttonEl.style.display =\n",
              "          google.colab.kernel.accessAllowed ? 'block' : 'none';\n",
              "\n",
              "        async function convertToInteractive(key) {\n",
              "          const element = document.querySelector('#df-1bc7b3d8-5706-433a-bb5b-b785f653b926');\n",
              "          const dataTable =\n",
              "            await google.colab.kernel.invokeFunction('convertToInteractive',\n",
              "                                                     [key], {});\n",
              "          if (!dataTable) return;\n",
              "\n",
              "          const docLinkHtml = 'Like what you see? Visit the ' +\n",
              "            '<a target=\"_blank\" href=https://colab.research.google.com/notebooks/data_table.ipynb>data table notebook</a>'\n",
              "            + ' to learn more about interactive tables.';\n",
              "          element.innerHTML = '';\n",
              "          dataTable['output_type'] = 'display_data';\n",
              "          await google.colab.output.renderOutput(dataTable, element);\n",
              "          const docLink = document.createElement('div');\n",
              "          docLink.innerHTML = docLinkHtml;\n",
              "          element.appendChild(docLink);\n",
              "        }\n",
              "      </script>\n",
              "    </div>\n",
              "  </div>\n",
              "  "
            ]
          },
          "metadata": {}
        }
      ]
    },
    {
      "cell_type": "code",
      "source": [
        "# Calculate profit for maximum kelly criterion\n",
        "initial_wealth_kfm = 500\n",
        "wealth_kfm = []\n",
        "subset_kfm = subset\n",
        "starting_salary = initial_wealth_kfm * len(subset_kfm)\n",
        "for i in range(len(subset_kfm)):\n",
        "  if subset['place_bet'][i] == True: \n",
        "    if subset['kelly_frac_max'][i] == True: \n",
        "      if subset['home_win'][i] == True:\n",
        "          # if place_bet == True and kelly_frac_max == True and home team wins\n",
        "          # bet placed and won, wealth then gets increased by bet payout\n",
        "          wealth_kfm.append(initial_wealth_kfm * subset_kfm['kelly_criterion_percent'][i] * subset_kfm['max_odds_home_win'][i] + ( initial_wealth_kfm - (initial_wealth_kfm * subset_kfm['kelly_criterion_percent'][i])))\n",
        "      else:\n",
        "        # bet placed and lost, wealth then decreases by bet amount\n",
        "        wealth_kfm.append(initial_wealth_kfm - (initial_wealth_kfm * subset_kfm['kelly_criterion_percent'][i]))\n",
        "    else:\n",
        "        # bet not placed, keep the 500 dollars\n",
        "        wealth_kfm.append(500)\n",
        "  else:\n",
        "    # bet not placed, keep the 500 dollars\n",
        "    wealth_kfm.append(500)\n",
        "subset_kfm['wealth'] = wealth_kfm\n"
      ],
      "metadata": {
        "id": "VnY_jxG_ue2S"
      },
      "execution_count": 33,
      "outputs": []
    },
    {
      "cell_type": "code",
      "source": [
        "print(len(subset_kfm), len(subset))"
      ],
      "metadata": {
        "colab": {
          "base_uri": "https://localhost:8080/"
        },
        "id": "cQi4pJSfHqxf",
        "outputId": "563af78e-9056-4f2b-c074-67efd75d4016"
      },
      "execution_count": 34,
      "outputs": [
        {
          "output_type": "stream",
          "name": "stdout",
          "text": [
            "479440 479440\n"
          ]
        }
      ]
    },
    {
      "cell_type": "code",
      "source": [
        "# plotting profit from game vs the expected payout for kelly fractional max strategy\n",
        "subset.plot(x='E(pi)', y='wealth', kind='scatter')\n",
        "plt.xlabel('Expected Payout (Percentage)')\n",
        "plt.ylabel('Profit from Game ($USD)')\n",
        "plt.title('The Kelly Fractional Percentage by Profit in a Game')\n",
        "plt.savefig('340wProject/KellyFracProfitperGame.png')\n",
        "plt.show()"
      ],
      "metadata": {
        "colab": {
          "base_uri": "https://localhost:8080/",
          "height": 472
        },
        "id": "8U_lI2X_wC_r",
        "outputId": "ac92ef14-4978-4dd3-caee-71ae9164eac5"
      },
      "execution_count": 39,
      "outputs": [
        {
          "output_type": "display_data",
          "data": {
            "text/plain": [
              "<Figure size 640x480 with 1 Axes>"
            ],
            "image/png": "[encoded data removed]"
          },
          "metadata": {}
        }
      ]
    },
    {
      "cell_type": "code",
      "source": [
        "# adding kelly_frac_max_wealth to subset\n",
        "subset['wealth_kfm'] = wealth_kfm"
      ],
      "metadata": {
        "id": "BnLImKpYrjPX"
      },
      "execution_count": 35,
      "outputs": []
    },
    {
      "cell_type": "code",
      "source": [
        "# finding total profit for kelly frac max\n",
        "print(sum(subset_kfm['wealth']) - starting_salary)\n",
        "true_count_kelly_max = subset.kelly_frac_max.sum()\n",
        "print(true_count_kelly_max)"
      ],
      "metadata": {
        "colab": {
          "base_uri": "https://localhost:8080/"
        },
        "id": "H58UT5DNv7xd",
        "outputId": "c18b7c90-328f-4ee9-e03b-3f639ba79d60"
      },
      "execution_count": 37,
      "outputs": [
        {
          "output_type": "stream",
          "name": "stdout",
          "text": [
            "169113.72534826398\n",
            "422406\n"
          ]
        }
      ]
    },
    {
      "cell_type": "code",
      "source": [
        "subset.to_csv('340wProject/ResultingDataset.csv')"
      ],
      "metadata": {
        "id": "Z8Aviv-svqwk"
      },
      "execution_count": 40,
      "outputs": []
    }
  ]
}