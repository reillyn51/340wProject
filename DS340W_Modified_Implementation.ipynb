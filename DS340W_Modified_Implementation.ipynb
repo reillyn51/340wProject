{
  "nbformat": 4,
  "nbformat_minor": 0,
  "metadata": {
    "colab": {
      "provenance": [],
      "include_colab_link": true
    },
    "kernelspec": {
      "name": "python3",
      "display_name": "Python 3"
    },
    "language_info": {
      "name": "python"
    }
  },
  "cells": [
    {
      "cell_type": "markdown",
      "metadata": {
        "id": "view-in-github",
        "colab_type": "text"
      },
      "source": [
        "<a href=\"https://colab.research.google.com/github/reillyn51/340wProject/blob/master/DS340W_Modified_Implementation.ipynb\" target=\"_parent\"><img src=\"https://colab.research.google.com/assets/colab-badge.svg\" alt=\"Open In Colab\"/></a>"
      ]
    },
    {
      "cell_type": "code",
      "execution_count": 1,
      "metadata": {
        "colab": {
          "base_uri": "https://localhost:8080/"
        },
        "id": "zlp_0_i4RUZq",
        "outputId": "091f93c7-bac3-43e3-ded0-b19254908358"
      },
      "outputs": [
        {
          "output_type": "stream",
          "name": "stdout",
          "text": [
            "Mounted at /content/drive\n"
          ]
        }
      ],
      "source": [
        "from google.colab import drive\n",
        "drive.mount('/content/drive')"
      ]
    },
    {
      "cell_type": "code",
      "source": [
        "%cd drive/MyDrive/"
      ],
      "metadata": {
        "colab": {
          "base_uri": "https://localhost:8080/"
        },
        "id": "tmW573tTRf11",
        "outputId": "5fa9cbe6-09e5-4a23-c64b-bfe124f1af2b"
      },
      "execution_count": 2,
      "outputs": [
        {
          "output_type": "stream",
          "name": "stdout",
          "text": [
            "/content/drive/MyDrive\n"
          ]
        }
      ]
    },
    {
      "cell_type": "code",
      "source": [
        "!pwd"
      ],
      "metadata": {
        "colab": {
          "base_uri": "https://localhost:8080/"
        },
        "id": "Z6dZAIzCRhzO",
        "outputId": "62a08fb4-05ae-4f38-ed6a-1ab47e81a653"
      },
      "execution_count": 3,
      "outputs": [
        {
          "output_type": "stream",
          "name": "stdout",
          "text": [
            "/content/drive/MyDrive\n"
          ]
        }
      ]
    },
    {
      "cell_type": "code",
      "source": [
        "!git clone https://github.com/reillyn51/340wProject.git"
      ],
      "metadata": {
        "colab": {
          "base_uri": "https://localhost:8080/"
        },
        "id": "64u0zl7ARkMn",
        "outputId": "d882cb4e-dd09-4268-c545-00dd1c989307"
      },
      "execution_count": 4,
      "outputs": [
        {
          "output_type": "stream",
          "name": "stdout",
          "text": [
            "fatal: destination path '340wProject' already exists and is not an empty directory.\n"
          ]
        }
      ]
    },
    {
      "cell_type": "code",
      "source": [
        "!cd drive/MyDrive/"
      ],
      "metadata": {
        "colab": {
          "base_uri": "https://localhost:8080/"
        },
        "id": "T7S2kC81Rl4E",
        "outputId": "19c4de0f-4343-41a4-8283-573cf4ba0858"
      },
      "execution_count": 5,
      "outputs": [
        {
          "output_type": "stream",
          "name": "stdout",
          "text": [
            "/bin/bash: line 0: cd: drive/MyDrive/: No such file or directory\n"
          ]
        }
      ]
    },
    {
      "cell_type": "code",
      "source": [
        "import pandas as pd\n",
        "import numpy as np\n",
        "df = pd.read_csv('340wProject/data/Beat the bookies/closing_odds.csv')\n",
        "df.head()"
      ],
      "metadata": {
        "colab": {
          "base_uri": "https://localhost:8080/",
          "height": 444
        },
        "id": "XtxOIHQORnu0",
        "outputId": "46b6acbd-4a07-43b9-f70c-97375636ea41"
      },
      "execution_count": 53,
      "outputs": [
        {
          "output_type": "execute_result",
          "data": {
            "text/plain": [
              "   match_id                   league  match_date    home_team  home_score  \\\n",
              "0    170088  England: Premier League  2005-01-01    Liverpool           0   \n",
              "1    170089  England: Premier League  2005-01-01       Fulham           3   \n",
              "2    170090  England: Premier League  2005-01-01  Aston Villa           1   \n",
              "3    170091  England: Premier League  2005-01-01       Bolton           1   \n",
              "4    170092  England: Premier League  2005-01-01     Charlton           1   \n",
              "\n",
              "        away_team  away_score  avg_odds_home_win  avg_odds_draw  \\\n",
              "0         Chelsea           1             2.9944         3.1944   \n",
              "1  Crystal Palace           1             1.9456         3.2333   \n",
              "2       Blackburn           0             1.8522         3.2611   \n",
              "3       West Brom           1             1.6122         3.4133   \n",
              "4         Arsenal           3             5.9878         3.4778   \n",
              "\n",
              "   avg_odds_away_win  max_odds_home_win  max_odds_draw  max_odds_away_win  \\\n",
              "0             2.2256               3.20           3.25               2.29   \n",
              "1             3.6722               2.04           3.30               4.15   \n",
              "2             4.0144               2.00           3.40               4.50   \n",
              "3             5.4722               1.67           3.57               6.27   \n",
              "4             1.5567               7.00           3.60               1.62   \n",
              "\n",
              "  top_bookie_home_win  top_bookie_draw top_bookie_away_win  n_odds_home_win  \\\n",
              "0         Paddy Power      Sportingbet              Expekt                9   \n",
              "1     Pinnacle Sports      bet-at-home              Expekt                9   \n",
              "2     Pinnacle Sports      Paddy Power         Sportingbet                9   \n",
              "3               Coral  Pinnacle Sports     Pinnacle Sports                9   \n",
              "4              Expekt      Paddy Power              bet365                9   \n",
              "\n",
              "   n_odds_draw  n_odds_away_win  \n",
              "0            9                9  \n",
              "1            9                9  \n",
              "2            9                9  \n",
              "3            9                9  \n",
              "4            9                9  "
            ],
            "text/html": [
              "\n",
              "  <div id=\"df-65700668-dd7d-49df-88d4-6b95f966598c\">\n",
              "    <div class=\"colab-df-container\">\n",
              "      <div>\n",
              "<style scoped>\n",
              "    .dataframe tbody tr th:only-of-type {\n",
              "        vertical-align: middle;\n",
              "    }\n",
              "\n",
              "    .dataframe tbody tr th {\n",
              "        vertical-align: top;\n",
              "    }\n",
              "\n",
              "    .dataframe thead th {\n",
              "        text-align: right;\n",
              "    }\n",
              "</style>\n",
              "<table border=\"1\" class=\"dataframe\">\n",
              "  <thead>\n",
              "    <tr style=\"text-align: right;\">\n",
              "      <th></th>\n",
              "      <th>match_id</th>\n",
              "      <th>league</th>\n",
              "      <th>match_date</th>\n",
              "      <th>home_team</th>\n",
              "      <th>home_score</th>\n",
              "      <th>away_team</th>\n",
              "      <th>away_score</th>\n",
              "      <th>avg_odds_home_win</th>\n",
              "      <th>avg_odds_draw</th>\n",
              "      <th>avg_odds_away_win</th>\n",
              "      <th>max_odds_home_win</th>\n",
              "      <th>max_odds_draw</th>\n",
              "      <th>max_odds_away_win</th>\n",
              "      <th>top_bookie_home_win</th>\n",
              "      <th>top_bookie_draw</th>\n",
              "      <th>top_bookie_away_win</th>\n",
              "      <th>n_odds_home_win</th>\n",
              "      <th>n_odds_draw</th>\n",
              "      <th>n_odds_away_win</th>\n",
              "    </tr>\n",
              "  </thead>\n",
              "  <tbody>\n",
              "    <tr>\n",
              "      <th>0</th>\n",
              "      <td>170088</td>\n",
              "      <td>England: Premier League</td>\n",
              "      <td>2005-01-01</td>\n",
              "      <td>Liverpool</td>\n",
              "      <td>0</td>\n",
              "      <td>Chelsea</td>\n",
              "      <td>1</td>\n",
              "      <td>2.9944</td>\n",
              "      <td>3.1944</td>\n",
              "      <td>2.2256</td>\n",
              "      <td>3.20</td>\n",
              "      <td>3.25</td>\n",
              "      <td>2.29</td>\n",
              "      <td>Paddy Power</td>\n",
              "      <td>Sportingbet</td>\n",
              "      <td>Expekt</td>\n",
              "      <td>9</td>\n",
              "      <td>9</td>\n",
              "      <td>9</td>\n",
              "    </tr>\n",
              "    <tr>\n",
              "      <th>1</th>\n",
              "      <td>170089</td>\n",
              "      <td>England: Premier League</td>\n",
              "      <td>2005-01-01</td>\n",
              "      <td>Fulham</td>\n",
              "      <td>3</td>\n",
              "      <td>Crystal Palace</td>\n",
              "      <td>1</td>\n",
              "      <td>1.9456</td>\n",
              "      <td>3.2333</td>\n",
              "      <td>3.6722</td>\n",
              "      <td>2.04</td>\n",
              "      <td>3.30</td>\n",
              "      <td>4.15</td>\n",
              "      <td>Pinnacle Sports</td>\n",
              "      <td>bet-at-home</td>\n",
              "      <td>Expekt</td>\n",
              "      <td>9</td>\n",
              "      <td>9</td>\n",
              "      <td>9</td>\n",
              "    </tr>\n",
              "    <tr>\n",
              "      <th>2</th>\n",
              "      <td>170090</td>\n",
              "      <td>England: Premier League</td>\n",
              "      <td>2005-01-01</td>\n",
              "      <td>Aston Villa</td>\n",
              "      <td>1</td>\n",
              "      <td>Blackburn</td>\n",
              "      <td>0</td>\n",
              "      <td>1.8522</td>\n",
              "      <td>3.2611</td>\n",
              "      <td>4.0144</td>\n",
              "      <td>2.00</td>\n",
              "      <td>3.40</td>\n",
              "      <td>4.50</td>\n",
              "      <td>Pinnacle Sports</td>\n",
              "      <td>Paddy Power</td>\n",
              "      <td>Sportingbet</td>\n",
              "      <td>9</td>\n",
              "      <td>9</td>\n",
              "      <td>9</td>\n",
              "    </tr>\n",
              "    <tr>\n",
              "      <th>3</th>\n",
              "      <td>170091</td>\n",
              "      <td>England: Premier League</td>\n",
              "      <td>2005-01-01</td>\n",
              "      <td>Bolton</td>\n",
              "      <td>1</td>\n",
              "      <td>West Brom</td>\n",
              "      <td>1</td>\n",
              "      <td>1.6122</td>\n",
              "      <td>3.4133</td>\n",
              "      <td>5.4722</td>\n",
              "      <td>1.67</td>\n",
              "      <td>3.57</td>\n",
              "      <td>6.27</td>\n",
              "      <td>Coral</td>\n",
              "      <td>Pinnacle Sports</td>\n",
              "      <td>Pinnacle Sports</td>\n",
              "      <td>9</td>\n",
              "      <td>9</td>\n",
              "      <td>9</td>\n",
              "    </tr>\n",
              "    <tr>\n",
              "      <th>4</th>\n",
              "      <td>170092</td>\n",
              "      <td>England: Premier League</td>\n",
              "      <td>2005-01-01</td>\n",
              "      <td>Charlton</td>\n",
              "      <td>1</td>\n",
              "      <td>Arsenal</td>\n",
              "      <td>3</td>\n",
              "      <td>5.9878</td>\n",
              "      <td>3.4778</td>\n",
              "      <td>1.5567</td>\n",
              "      <td>7.00</td>\n",
              "      <td>3.60</td>\n",
              "      <td>1.62</td>\n",
              "      <td>Expekt</td>\n",
              "      <td>Paddy Power</td>\n",
              "      <td>bet365</td>\n",
              "      <td>9</td>\n",
              "      <td>9</td>\n",
              "      <td>9</td>\n",
              "    </tr>\n",
              "  </tbody>\n",
              "</table>\n",
              "</div>\n",
              "      <button class=\"colab-df-convert\" onclick=\"convertToInteractive('df-65700668-dd7d-49df-88d4-6b95f966598c')\"\n",
              "              title=\"Convert this dataframe to an interactive table.\"\n",
              "              style=\"display:none;\">\n",
              "        \n",
              "  <svg xmlns=\"http://www.w3.org/2000/svg\" height=\"24px\"viewBox=\"0 0 24 24\"\n",
              "       width=\"24px\">\n",
              "    <path d=\"M0 0h24v24H0V0z\" fill=\"none\"/>\n",
              "    <path d=\"M18.56 5.44l.94 2.06.94-2.06 2.06-.94-2.06-.94-.94-2.06-.94 2.06-2.06.94zm-11 1L8.5 8.5l.94-2.06 2.06-.94-2.06-.94L8.5 2.5l-.94 2.06-2.06.94zm10 10l.94 2.06.94-2.06 2.06-.94-2.06-.94-.94-2.06-.94 2.06-2.06.94z\"/><path d=\"M17.41 7.96l-1.37-1.37c-.4-.4-.92-.59-1.43-.59-.52 0-1.04.2-1.43.59L10.3 9.45l-7.72 7.72c-.78.78-.78 2.05 0 2.83L4 21.41c.39.39.9.59 1.41.59.51 0 1.02-.2 1.41-.59l7.78-7.78 2.81-2.81c.8-.78.8-2.07 0-2.86zM5.41 20L4 18.59l7.72-7.72 1.47 1.35L5.41 20z\"/>\n",
              "  </svg>\n",
              "      </button>\n",
              "      \n",
              "  <style>\n",
              "    .colab-df-container {\n",
              "      display:flex;\n",
              "      flex-wrap:wrap;\n",
              "      gap: 12px;\n",
              "    }\n",
              "\n",
              "    .colab-df-convert {\n",
              "      background-color: #E8F0FE;\n",
              "      border: none;\n",
              "      border-radius: 50%;\n",
              "      cursor: pointer;\n",
              "      display: none;\n",
              "      fill: #1967D2;\n",
              "      height: 32px;\n",
              "      padding: 0 0 0 0;\n",
              "      width: 32px;\n",
              "    }\n",
              "\n",
              "    .colab-df-convert:hover {\n",
              "      background-color: #E2EBFA;\n",
              "      box-shadow: 0px 1px 2px rgba(60, 64, 67, 0.3), 0px 1px 3px 1px rgba(60, 64, 67, 0.15);\n",
              "      fill: #174EA6;\n",
              "    }\n",
              "\n",
              "    [theme=dark] .colab-df-convert {\n",
              "      background-color: #3B4455;\n",
              "      fill: #D2E3FC;\n",
              "    }\n",
              "\n",
              "    [theme=dark] .colab-df-convert:hover {\n",
              "      background-color: #434B5C;\n",
              "      box-shadow: 0px 1px 3px 1px rgba(0, 0, 0, 0.15);\n",
              "      filter: drop-shadow(0px 1px 2px rgba(0, 0, 0, 0.3));\n",
              "      fill: #FFFFFF;\n",
              "    }\n",
              "  </style>\n",
              "\n",
              "      <script>\n",
              "        const buttonEl =\n",
              "          document.querySelector('#df-65700668-dd7d-49df-88d4-6b95f966598c button.colab-df-convert');\n",
              "        buttonEl.style.display =\n",
              "          google.colab.kernel.accessAllowed ? 'block' : 'none';\n",
              "\n",
              "        async function convertToInteractive(key) {\n",
              "          const element = document.querySelector('#df-65700668-dd7d-49df-88d4-6b95f966598c');\n",
              "          const dataTable =\n",
              "            await google.colab.kernel.invokeFunction('convertToInteractive',\n",
              "                                                     [key], {});\n",
              "          if (!dataTable) return;\n",
              "\n",
              "          const docLinkHtml = 'Like what you see? Visit the ' +\n",
              "            '<a target=\"_blank\" href=https://colab.research.google.com/notebooks/data_table.ipynb>data table notebook</a>'\n",
              "            + ' to learn more about interactive tables.';\n",
              "          element.innerHTML = '';\n",
              "          dataTable['output_type'] = 'display_data';\n",
              "          await google.colab.output.renderOutput(dataTable, element);\n",
              "          const docLink = document.createElement('div');\n",
              "          docLink.innerHTML = docLinkHtml;\n",
              "          element.appendChild(docLink);\n",
              "        }\n",
              "      </script>\n",
              "    </div>\n",
              "  </div>\n",
              "  "
            ]
          },
          "metadata": {},
          "execution_count": 53
        }
      ]
    },
    {
      "cell_type": "code",
      "source": [
        "# calculate the Kelly criterion column\n",
        "subset = df[['match_id','home_score','away_score','max_odds_home_win']]\n",
        "subset['home_win'] = np.where(subset['home_score'] > subset['away_score'], True, False) # outcome column\n",
        "subset['p_cons'] =  1/df['avg_odds_home_win'] #probability of an event happening\n",
        "p_unfavorable_cons = 1 - subset['p_cons'] \n",
        "b = df['max_odds_home_win'] # ?\n",
        "subset['kelly_criterion_percent'] = subset['p_cons'] - (p_unfavorable_cons / b)\n",
        "subset['p_cons']"
      ],
      "metadata": {
        "colab": {
          "base_uri": "https://localhost:8080/"
        },
        "id": "snQqqaaWRpyZ",
        "outputId": "19761608-ae72-404d-daa0-cf2aea8ed3ad"
      },
      "execution_count": 82,
      "outputs": [
        {
          "output_type": "stream",
          "name": "stderr",
          "text": [
            "<ipython-input-82-ce688fa62e12>:3: SettingWithCopyWarning: \n",
            "A value is trying to be set on a copy of a slice from a DataFrame.\n",
            "Try using .loc[row_indexer,col_indexer] = value instead\n",
            "\n",
            "See the caveats in the documentation: https://pandas.pydata.org/pandas-docs/stable/user_guide/indexing.html#returning-a-view-versus-a-copy\n",
            "  subset['home_win'] = np.where(subset['home_score'] > subset['away_score'], True, False) # outcome column\n",
            "<ipython-input-82-ce688fa62e12>:4: SettingWithCopyWarning: \n",
            "A value is trying to be set on a copy of a slice from a DataFrame.\n",
            "Try using .loc[row_indexer,col_indexer] = value instead\n",
            "\n",
            "See the caveats in the documentation: https://pandas.pydata.org/pandas-docs/stable/user_guide/indexing.html#returning-a-view-versus-a-copy\n",
            "  subset['p_cons'] =  1/df['avg_odds_home_win'] #probability of an event happening\n",
            "<ipython-input-82-ce688fa62e12>:7: SettingWithCopyWarning: \n",
            "A value is trying to be set on a copy of a slice from a DataFrame.\n",
            "Try using .loc[row_indexer,col_indexer] = value instead\n",
            "\n",
            "See the caveats in the documentation: https://pandas.pydata.org/pandas-docs/stable/user_guide/indexing.html#returning-a-view-versus-a-copy\n",
            "  subset['kelly_criterion_percent'] = subset['p_cons'] - (p_unfavorable_cons / b)\n"
          ]
        },
        {
          "output_type": "execute_result",
          "data": {
            "text/plain": [
              "0         0.333957\n",
              "1         0.513980\n",
              "2         0.539898\n",
              "3         0.620270\n",
              "4         0.167006\n",
              "            ...   \n",
              "479435    0.593895\n",
              "479436    0.076240\n",
              "479437    0.058053\n",
              "479438    0.063636\n",
              "479439    0.212112\n",
              "Name: p_cons, Length: 479440, dtype: float64"
            ]
          },
          "metadata": {},
          "execution_count": 82
        }
      ]
    },
    {
      "cell_type": "code",
      "source": [
        "# Calculating the expected payout for each game\n",
        "alpha = .034 #constant that depends on victory (0.034 for home win)\n",
        "omega = df['max_odds_home_win'] # odds paid out by the bookmaker\n",
        "subset['E(pi)'] = (subset['p_cons'] - alpha) * omega-1 #\n",
        "print(subset.shape, subset.columns)"
      ],
      "metadata": {
        "colab": {
          "base_uri": "https://localhost:8080/"
        },
        "id": "sq2LIfiVRsFF",
        "outputId": "44d7e18a-c556-47fc-c979-80cc06731008"
      },
      "execution_count": 83,
      "outputs": [
        {
          "output_type": "stream",
          "name": "stdout",
          "text": [
            "(479440, 8) Index(['match_id', 'home_score', 'away_score', 'max_odds_home_win', 'home_win',\n",
            "       'p_cons', 'kelly_criterion_percent', 'E(pi)'],\n",
            "      dtype='object')\n"
          ]
        },
        {
          "output_type": "stream",
          "name": "stderr",
          "text": [
            "<ipython-input-83-368d3166f577>:4: SettingWithCopyWarning: \n",
            "A value is trying to be set on a copy of a slice from a DataFrame.\n",
            "Try using .loc[row_indexer,col_indexer] = value instead\n",
            "\n",
            "See the caveats in the documentation: https://pandas.pydata.org/pandas-docs/stable/user_guide/indexing.html#returning-a-view-versus-a-copy\n",
            "  subset['E(pi)'] = (subset['p_cons'] - alpha) * omega-1 #\n"
          ]
        }
      ]
    },
    {
      "cell_type": "code",
      "source": [
        "from pickle import TRUE\n",
        "# determining when to bet \n",
        "subset['place_bet'] = np.where(subset['E(pi)'] > 0, True, False) # outcome column\n",
        "print(subset)"
      ],
      "metadata": {
        "colab": {
          "base_uri": "https://localhost:8080/"
        },
        "id": "UNEvLj1xRug5",
        "outputId": "8966043e-7060-4900-d39f-147ac6e7099c"
      },
      "execution_count": 84,
      "outputs": [
        {
          "output_type": "stream",
          "name": "stdout",
          "text": [
            "        match_id  home_score  away_score  max_odds_home_win  home_win  \\\n",
            "0         170088           0           1               3.20     False   \n",
            "1         170089           3           1               2.04      True   \n",
            "2         170090           1           0               2.00      True   \n",
            "3         170091           1           1               1.67     False   \n",
            "4         170092           1           3               7.00     False   \n",
            "...          ...         ...         ...                ...       ...   \n",
            "479435    876806           1           2               1.83     False   \n",
            "479436    876807           1           1              19.00     False   \n",
            "479437    876808           0           5              22.00     False   \n",
            "479438    876809           0           3              34.00     False   \n",
            "479439    876812           0           0               5.46     False   \n",
            "\n",
            "          p_cons  kelly_criterion_percent     E(pi)  place_bet  \n",
            "0       0.333957                 0.125818 -0.040138      False  \n",
            "1       0.513980                 0.275735 -0.020840      False  \n",
            "2       0.539898                 0.309848  0.011797       True  \n",
            "3       0.620270                 0.392887 -0.020928      False  \n",
            "4       0.167006                 0.048007 -0.068956      False  \n",
            "...          ...                      ...       ...        ...  \n",
            "479435  0.593895                 0.371979  0.024607       True  \n",
            "479436  0.076240                 0.027621 -0.197443      False  \n",
            "479437  0.058053                 0.015237 -0.470831      False  \n",
            "479438  0.063636                 0.036096  0.007634       True  \n",
            "479439  0.212112                 0.067810 -0.027511      False  \n",
            "\n",
            "[479440 rows x 9 columns]\n"
          ]
        },
        {
          "output_type": "stream",
          "name": "stderr",
          "text": [
            "<ipython-input-84-7ac0268a34a1>:3: SettingWithCopyWarning: \n",
            "A value is trying to be set on a copy of a slice from a DataFrame.\n",
            "Try using .loc[row_indexer,col_indexer] = value instead\n",
            "\n",
            "See the caveats in the documentation: https://pandas.pydata.org/pandas-docs/stable/user_guide/indexing.html#returning-a-view-versus-a-copy\n",
            "  subset['place_bet'] = np.where(subset['E(pi)'] > 0, True, False) # outcome column\n"
          ]
        }
      ]
    },
    {
      "cell_type": "code",
      "source": [
        "# Calculate profit for Kelly criterion \n",
        "initial_wealth_2 = 500\n",
        "wealth_2 = []\n",
        "subset_2 = subset\n",
        "starting_salary = initial_wealth_2 * len(subset_2)\n",
        "for i in range(len(subset)):\n",
        "  \n",
        "  if subset['place_bet'][i] == True: \n",
        "    if subset['home_win'][i] == True:\n",
        "      # bet won, wealth then gets increased by bet payout\n",
        "        wealth_2.append(initial_wealth_2 * subset_2['kelly_criterion_percent'][i] * subset_2['max_odds_home_win'][i] + ( initial_wealth_2 - (initial_wealth_2 * subset_2['kelly_criterion_percent'][i])))\n",
        "    else:\n",
        "        wealth_2.append(initial_wealth_2 - (initial_wealth_2 * subset_2['kelly_criterion_percent'][i]))\n",
        "      \n",
        "  else:\n",
        "      wealth_2.append(500)\n",
        "\n",
        "subset['wealth'] = wealth_2"
      ],
      "metadata": {
        "colab": {
          "base_uri": "https://localhost:8080/"
        },
        "id": "Sildww5cRwjH",
        "outputId": "a91fefbe-e4c1-45cd-a9cb-7f884603c225"
      },
      "execution_count": 105,
      "outputs": [
        {
          "output_type": "stream",
          "name": "stderr",
          "text": [
            "<ipython-input-105-288e29bd7a4f>:18: SettingWithCopyWarning: \n",
            "A value is trying to be set on a copy of a slice from a DataFrame.\n",
            "Try using .loc[row_indexer,col_indexer] = value instead\n",
            "\n",
            "See the caveats in the documentation: https://pandas.pydata.org/pandas-docs/stable/user_guide/indexing.html#returning-a-view-versus-a-copy\n",
            "  subset['wealth'] = wealth_2\n"
          ]
        }
      ]
    },
    {
      "cell_type": "code",
      "source": [
        "print(sum(subset_2['wealth']) - starting_salary)"
      ],
      "metadata": {
        "colab": {
          "base_uri": "https://localhost:8080/"
        },
        "id": "bBCgWi7WR0z7",
        "outputId": "0c41996d-fb1e-480c-9058-6fc7f77b30f8"
      },
      "execution_count": 88,
      "outputs": [
        {
          "output_type": "stream",
          "name": "stdout",
          "text": [
            "319204.91723391414\n"
          ]
        }
      ]
    },
    {
      "cell_type": "code",
      "source": [
        "# modern portfolio theory calculation\n",
        "# change the place_bet to be different here\n",
        "\n",
        "thresholds = [.5, .52, .54, .6, .625]\n",
        "plotting_dictionary = {}\n",
        "plot_types = ['.','o','p','*','^']\n",
        "for threshold in thresholds:\n",
        "  initial_wealth_mpt = 500\n",
        "  wealth_mpt = []\n",
        "  subset_mpt = subset\n",
        "  place_bet_mpt = []\n",
        "  # bet 1% of wealth on game if the outcome of the bet winning is greater than or equal increasing the wealth by 10% of the portfolio \n",
        "  for i in range(len(subset_mpt)):\n",
        "    if len(wealth_mpt) == 0:\n",
        "      percentage_increase = .01 * initial_wealth_mpt * subset_mpt['max_odds_home_win'][i] / (initial_wealth_mpt + .01 * initial_wealth_mpt * subset_mpt['max_odds_home_win'][i])\n",
        "      if percentage_increase > threshold:\n",
        "        place_bet_mpt.append(True)\n",
        "        wealth_mpt.append(initial_wealth_mpt + .01 * initial_wealth_mpt * subset_mpt['max_odds_home_win'][i])\n",
        "      else:\n",
        "        place_bet_mpt.append(False)\n",
        "    else:\n",
        "      percentage_increase = .01 * int(wealth_mpt[-1]) * subset_mpt['max_odds_home_win'][i] / (int(wealth_mpt[-1]) + .01 * int(wealth_mpt[-1]) * subset_mpt['max_odds_home_win'][i])\n",
        "      if percentage_increase > threshold:\n",
        "        place_bet_mpt.append(True)\n",
        "        wealth_mpt.append(int(wealth_mpt[-1]) + .01 * int(wealth_mpt[-1]) * subset_mpt['max_odds_home_win'][i])\n",
        "      else:\n",
        "        place_bet_mpt.append(False)\n",
        "\n",
        "  # print(len(place_bet_mpt) == len(subset_mpt))\n",
        "  # subset_mpt['place_bet_mpt'] = place_bet_mpt\n",
        "  # print(wealth_mpt[0])\n",
        "  index = thresholds.index(threshold)\n",
        "  plotting_dictionary[plot_types[index]] = wealth_mpt\n",
        "  # print(index)\n",
        "  print(f'Wealth {wealth_mpt} for threshold {threshold}')\n",
        "\n",
        "# add data to subset to keep track of it\n",
        "# print(plotting_dictionary)\n",
        "# print(wealth_mpt[-1])\n",
        "# subset_mpt\n",
        "# percentage_increase = initial_wealth_mpt * subset_mpt['max_odds_home_win'][i] / (sum(wealth_mpt) + initial_wealth_2 * subset_mpt['max_odds_home_win'][i])"
      ],
      "metadata": {
        "id": "7OqyyDerUh6i",
        "colab": {
          "base_uri": "https://localhost:8080/"
        },
        "outputId": "bbce072e-db88-4787-c5ca-2a9a6fa2e383"
      },
      "execution_count": 89,
      "outputs": [
        {
          "output_type": "stream",
          "name": "stdout",
          "text": [
            "Wealth [1005.0, 2020.0500000000002, 4060.2, 8160.6, 16401.6, 32966.009999999995, 66261.66, 133184.61, 267699.83999999997, 538074.99, 1081528.74, 2703820.0, 8355885.328, 16795328.85, 33758609.28, 71760675.1513, 180119294.25, 362039780.94, 727699957.8, 1826526892.07, 4584582498.92, 10361156445.48, 20825924454.45, 41860108152.54, 94603844423.51999, 190153727290.22998, 429747423675.4, 863792321586.75] for threshold 0.5\n",
            "Wealth [1250.0, 3863.0, 8211.579099999999, 20609.61, 51728.59, 129837.28, 293431.62, 663154.06, 1498728.04] for threshold 0.52\n",
            "Wealth [1250.0, 3863.0, 9696.130000000001, 24336.96, 61083.36, 138047.58000000002, 311986.22, 705088.3600000001] for threshold 0.54\n",
            "Wealth [1545.2, 3877.9500000000003, 9731.27, 24424.809999999998] for threshold 0.6\n",
            "Wealth [1545.2] for threshold 0.625\n"
          ]
        }
      ]
    },
    {
      "cell_type": "code",
      "source": [
        "import matplotlib.pyplot as plt\n",
        "\n",
        "plt.plot(plotting_dictionary['.'], '.', label='.5')\n",
        "plt.legend(loc='upper left')\n",
        "\n",
        "plt.show()"
      ],
      "metadata": {
        "colab": {
          "base_uri": "https://localhost:8080/",
          "height": 445
        },
        "id": "R_UurA1zo6NN",
        "outputId": "34a873d6-0bb8-402a-fb53-4037964f8162"
      },
      "execution_count": 90,
      "outputs": [
        {
          "output_type": "display_data",
          "data": {
            "text/plain": [
              "<Figure size 640x480 with 1 Axes>"
            ],
            "image/png": "[encoded data removed]"
          },
          "metadata": {}
        }
      ]
    },
    {
      "cell_type": "code",
      "source": [
        "plt.plot(plotting_dictionary['o'], 'o', label='.52')\n",
        "plt.plot(plotting_dictionary['*'], '*', label='.54')\n",
        "plt.plot(plotting_dictionary['p'], 'p',label='.6')\n",
        "plt.plot(plotting_dictionary['^'], '^', label='.625')\n",
        "plt.legend(loc='upper left')\n",
        "plt.show()"
      ],
      "metadata": {
        "colab": {
          "base_uri": "https://localhost:8080/",
          "height": 445
        },
        "id": "RM0RpPPvo63e",
        "outputId": "6f1f439e-a42f-4435-f279-cdbe754dd17f"
      },
      "execution_count": 91,
      "outputs": [
        {
          "output_type": "display_data",
          "data": {
            "text/plain": [
              "<Figure size 640x480 with 1 Axes>"
            ],
            "image/png": "[encoded data removed]"
          },
          "metadata": {}
        }
      ]
    },
    {
      "cell_type": "code",
      "source": [
        "# Maximum kelly fractional criterion calculation\n",
        "subset['kelly_frac_max'] = np.where(subset['kelly_criterion_percent'] < 0.5, True, False) # outcome column\n",
        "display(subset)\n"
      ],
      "metadata": {
        "colab": {
          "base_uri": "https://localhost:8080/",
          "height": 1015
        },
        "id": "Ldb8V5SGx6WF",
        "outputId": "76cbfe88-8147-45c7-9411-9209c7b237d0"
      },
      "execution_count": 92,
      "outputs": [
        {
          "output_type": "stream",
          "name": "stderr",
          "text": [
            "<ipython-input-92-669af423755d>:2: SettingWithCopyWarning: \n",
            "A value is trying to be set on a copy of a slice from a DataFrame.\n",
            "Try using .loc[row_indexer,col_indexer] = value instead\n",
            "\n",
            "See the caveats in the documentation: https://pandas.pydata.org/pandas-docs/stable/user_guide/indexing.html#returning-a-view-versus-a-copy\n",
            "  subset['kelly_frac_max'] = np.where(subset['kelly_criterion_percent'] < 0.5, True, False) # outcome column\n"
          ]
        },
        {
          "output_type": "display_data",
          "data": {
            "text/plain": [
              "        match_id  home_score  away_score  max_odds_home_win  home_win  \\\n",
              "0         170088           0           1               3.20     False   \n",
              "1         170089           3           1               2.04      True   \n",
              "2         170090           1           0               2.00      True   \n",
              "3         170091           1           1               1.67     False   \n",
              "4         170092           1           3               7.00     False   \n",
              "...          ...         ...         ...                ...       ...   \n",
              "479435    876806           1           2               1.83     False   \n",
              "479436    876807           1           1              19.00     False   \n",
              "479437    876808           0           5              22.00     False   \n",
              "479438    876809           0           3              34.00     False   \n",
              "479439    876812           0           0               5.46     False   \n",
              "\n",
              "          p_cons  kelly_criterion_percent     E(pi)  place_bet  \\\n",
              "0       0.333957                 0.125818 -0.040138      False   \n",
              "1       0.513980                 0.275735 -0.020840      False   \n",
              "2       0.539898                 0.309848  0.011797       True   \n",
              "3       0.620270                 0.392887 -0.020928      False   \n",
              "4       0.167006                 0.048007 -0.068956      False   \n",
              "...          ...                      ...       ...        ...   \n",
              "479435  0.593895                 0.371979  0.024607       True   \n",
              "479436  0.076240                 0.027621 -0.197443      False   \n",
              "479437  0.058053                 0.015237 -0.470831      False   \n",
              "479438  0.063636                 0.036096  0.007634       True   \n",
              "479439  0.212112                 0.067810 -0.027511      False   \n",
              "\n",
              "        kelly_frac_max      wealth  \n",
              "0                 True  500.000000  \n",
              "1                 True  500.000000  \n",
              "2                 True  654.923874  \n",
              "3                 True  500.000000  \n",
              "4                 True  500.000000  \n",
              "...                ...         ...  \n",
              "479435            True  314.010334  \n",
              "479436            True  500.000000  \n",
              "479437            True  500.000000  \n",
              "479438            True  481.951901  \n",
              "479439            True  500.000000  \n",
              "\n",
              "[479440 rows x 11 columns]"
            ],
            "text/html": [
              "\n",
              "  <div id=\"df-3e582d9c-875f-43d1-9613-80a627cf691f\">\n",
              "    <div class=\"colab-df-container\">\n",
              "      <div>\n",
              "<style scoped>\n",
              "    .dataframe tbody tr th:only-of-type {\n",
              "        vertical-align: middle;\n",
              "    }\n",
              "\n",
              "    .dataframe tbody tr th {\n",
              "        vertical-align: top;\n",
              "    }\n",
              "\n",
              "    .dataframe thead th {\n",
              "        text-align: right;\n",
              "    }\n",
              "</style>\n",
              "<table border=\"1\" class=\"dataframe\">\n",
              "  <thead>\n",
              "    <tr style=\"text-align: right;\">\n",
              "      <th></th>\n",
              "      <th>match_id</th>\n",
              "      <th>home_score</th>\n",
              "      <th>away_score</th>\n",
              "      <th>max_odds_home_win</th>\n",
              "      <th>home_win</th>\n",
              "      <th>p_cons</th>\n",
              "      <th>kelly_criterion_percent</th>\n",
              "      <th>E(pi)</th>\n",
              "      <th>place_bet</th>\n",
              "      <th>kelly_frac_max</th>\n",
              "      <th>wealth</th>\n",
              "    </tr>\n",
              "  </thead>\n",
              "  <tbody>\n",
              "    <tr>\n",
              "      <th>0</th>\n",
              "      <td>170088</td>\n",
              "      <td>0</td>\n",
              "      <td>1</td>\n",
              "      <td>3.20</td>\n",
              "      <td>False</td>\n",
              "      <td>0.333957</td>\n",
              "      <td>0.125818</td>\n",
              "      <td>-0.040138</td>\n",
              "      <td>False</td>\n",
              "      <td>True</td>\n",
              "      <td>500.000000</td>\n",
              "    </tr>\n",
              "    <tr>\n",
              "      <th>1</th>\n",
              "      <td>170089</td>\n",
              "      <td>3</td>\n",
              "      <td>1</td>\n",
              "      <td>2.04</td>\n",
              "      <td>True</td>\n",
              "      <td>0.513980</td>\n",
              "      <td>0.275735</td>\n",
              "      <td>-0.020840</td>\n",
              "      <td>False</td>\n",
              "      <td>True</td>\n",
              "      <td>500.000000</td>\n",
              "    </tr>\n",
              "    <tr>\n",
              "      <th>2</th>\n",
              "      <td>170090</td>\n",
              "      <td>1</td>\n",
              "      <td>0</td>\n",
              "      <td>2.00</td>\n",
              "      <td>True</td>\n",
              "      <td>0.539898</td>\n",
              "      <td>0.309848</td>\n",
              "      <td>0.011797</td>\n",
              "      <td>True</td>\n",
              "      <td>True</td>\n",
              "      <td>654.923874</td>\n",
              "    </tr>\n",
              "    <tr>\n",
              "      <th>3</th>\n",
              "      <td>170091</td>\n",
              "      <td>1</td>\n",
              "      <td>1</td>\n",
              "      <td>1.67</td>\n",
              "      <td>False</td>\n",
              "      <td>0.620270</td>\n",
              "      <td>0.392887</td>\n",
              "      <td>-0.020928</td>\n",
              "      <td>False</td>\n",
              "      <td>True</td>\n",
              "      <td>500.000000</td>\n",
              "    </tr>\n",
              "    <tr>\n",
              "      <th>4</th>\n",
              "      <td>170092</td>\n",
              "      <td>1</td>\n",
              "      <td>3</td>\n",
              "      <td>7.00</td>\n",
              "      <td>False</td>\n",
              "      <td>0.167006</td>\n",
              "      <td>0.048007</td>\n",
              "      <td>-0.068956</td>\n",
              "      <td>False</td>\n",
              "      <td>True</td>\n",
              "      <td>500.000000</td>\n",
              "    </tr>\n",
              "    <tr>\n",
              "      <th>...</th>\n",
              "      <td>...</td>\n",
              "      <td>...</td>\n",
              "      <td>...</td>\n",
              "      <td>...</td>\n",
              "      <td>...</td>\n",
              "      <td>...</td>\n",
              "      <td>...</td>\n",
              "      <td>...</td>\n",
              "      <td>...</td>\n",
              "      <td>...</td>\n",
              "      <td>...</td>\n",
              "    </tr>\n",
              "    <tr>\n",
              "      <th>479435</th>\n",
              "      <td>876806</td>\n",
              "      <td>1</td>\n",
              "      <td>2</td>\n",
              "      <td>1.83</td>\n",
              "      <td>False</td>\n",
              "      <td>0.593895</td>\n",
              "      <td>0.371979</td>\n",
              "      <td>0.024607</td>\n",
              "      <td>True</td>\n",
              "      <td>True</td>\n",
              "      <td>314.010334</td>\n",
              "    </tr>\n",
              "    <tr>\n",
              "      <th>479436</th>\n",
              "      <td>876807</td>\n",
              "      <td>1</td>\n",
              "      <td>1</td>\n",
              "      <td>19.00</td>\n",
              "      <td>False</td>\n",
              "      <td>0.076240</td>\n",
              "      <td>0.027621</td>\n",
              "      <td>-0.197443</td>\n",
              "      <td>False</td>\n",
              "      <td>True</td>\n",
              "      <td>500.000000</td>\n",
              "    </tr>\n",
              "    <tr>\n",
              "      <th>479437</th>\n",
              "      <td>876808</td>\n",
              "      <td>0</td>\n",
              "      <td>5</td>\n",
              "      <td>22.00</td>\n",
              "      <td>False</td>\n",
              "      <td>0.058053</td>\n",
              "      <td>0.015237</td>\n",
              "      <td>-0.470831</td>\n",
              "      <td>False</td>\n",
              "      <td>True</td>\n",
              "      <td>500.000000</td>\n",
              "    </tr>\n",
              "    <tr>\n",
              "      <th>479438</th>\n",
              "      <td>876809</td>\n",
              "      <td>0</td>\n",
              "      <td>3</td>\n",
              "      <td>34.00</td>\n",
              "      <td>False</td>\n",
              "      <td>0.063636</td>\n",
              "      <td>0.036096</td>\n",
              "      <td>0.007634</td>\n",
              "      <td>True</td>\n",
              "      <td>True</td>\n",
              "      <td>481.951901</td>\n",
              "    </tr>\n",
              "    <tr>\n",
              "      <th>479439</th>\n",
              "      <td>876812</td>\n",
              "      <td>0</td>\n",
              "      <td>0</td>\n",
              "      <td>5.46</td>\n",
              "      <td>False</td>\n",
              "      <td>0.212112</td>\n",
              "      <td>0.067810</td>\n",
              "      <td>-0.027511</td>\n",
              "      <td>False</td>\n",
              "      <td>True</td>\n",
              "      <td>500.000000</td>\n",
              "    </tr>\n",
              "  </tbody>\n",
              "</table>\n",
              "<p>479440 rows × 11 columns</p>\n",
              "</div>\n",
              "      <button class=\"colab-df-convert\" onclick=\"convertToInteractive('df-3e582d9c-875f-43d1-9613-80a627cf691f')\"\n",
              "              title=\"Convert this dataframe to an interactive table.\"\n",
              "              style=\"display:none;\">\n",
              "        \n",
              "  <svg xmlns=\"http://www.w3.org/2000/svg\" height=\"24px\"viewBox=\"0 0 24 24\"\n",
              "       width=\"24px\">\n",
              "    <path d=\"M0 0h24v24H0V0z\" fill=\"none\"/>\n",
              "    <path d=\"M18.56 5.44l.94 2.06.94-2.06 2.06-.94-2.06-.94-.94-2.06-.94 2.06-2.06.94zm-11 1L8.5 8.5l.94-2.06 2.06-.94-2.06-.94L8.5 2.5l-.94 2.06-2.06.94zm10 10l.94 2.06.94-2.06 2.06-.94-2.06-.94-.94-2.06-.94 2.06-2.06.94z\"/><path d=\"M17.41 7.96l-1.37-1.37c-.4-.4-.92-.59-1.43-.59-.52 0-1.04.2-1.43.59L10.3 9.45l-7.72 7.72c-.78.78-.78 2.05 0 2.83L4 21.41c.39.39.9.59 1.41.59.51 0 1.02-.2 1.41-.59l7.78-7.78 2.81-2.81c.8-.78.8-2.07 0-2.86zM5.41 20L4 18.59l7.72-7.72 1.47 1.35L5.41 20z\"/>\n",
              "  </svg>\n",
              "      </button>\n",
              "      \n",
              "  <style>\n",
              "    .colab-df-container {\n",
              "      display:flex;\n",
              "      flex-wrap:wrap;\n",
              "      gap: 12px;\n",
              "    }\n",
              "\n",
              "    .colab-df-convert {\n",
              "      background-color: #E8F0FE;\n",
              "      border: none;\n",
              "      border-radius: 50%;\n",
              "      cursor: pointer;\n",
              "      display: none;\n",
              "      fill: #1967D2;\n",
              "      height: 32px;\n",
              "      padding: 0 0 0 0;\n",
              "      width: 32px;\n",
              "    }\n",
              "\n",
              "    .colab-df-convert:hover {\n",
              "      background-color: #E2EBFA;\n",
              "      box-shadow: 0px 1px 2px rgba(60, 64, 67, 0.3), 0px 1px 3px 1px rgba(60, 64, 67, 0.15);\n",
              "      fill: #174EA6;\n",
              "    }\n",
              "\n",
              "    [theme=dark] .colab-df-convert {\n",
              "      background-color: #3B4455;\n",
              "      fill: #D2E3FC;\n",
              "    }\n",
              "\n",
              "    [theme=dark] .colab-df-convert:hover {\n",
              "      background-color: #434B5C;\n",
              "      box-shadow: 0px 1px 3px 1px rgba(0, 0, 0, 0.15);\n",
              "      filter: drop-shadow(0px 1px 2px rgba(0, 0, 0, 0.3));\n",
              "      fill: #FFFFFF;\n",
              "    }\n",
              "  </style>\n",
              "\n",
              "      <script>\n",
              "        const buttonEl =\n",
              "          document.querySelector('#df-3e582d9c-875f-43d1-9613-80a627cf691f button.colab-df-convert');\n",
              "        buttonEl.style.display =\n",
              "          google.colab.kernel.accessAllowed ? 'block' : 'none';\n",
              "\n",
              "        async function convertToInteractive(key) {\n",
              "          const element = document.querySelector('#df-3e582d9c-875f-43d1-9613-80a627cf691f');\n",
              "          const dataTable =\n",
              "            await google.colab.kernel.invokeFunction('convertToInteractive',\n",
              "                                                     [key], {});\n",
              "          if (!dataTable) return;\n",
              "\n",
              "          const docLinkHtml = 'Like what you see? Visit the ' +\n",
              "            '<a target=\"_blank\" href=https://colab.research.google.com/notebooks/data_table.ipynb>data table notebook</a>'\n",
              "            + ' to learn more about interactive tables.';\n",
              "          element.innerHTML = '';\n",
              "          dataTable['output_type'] = 'display_data';\n",
              "          await google.colab.output.renderOutput(dataTable, element);\n",
              "          const docLink = document.createElement('div');\n",
              "          docLink.innerHTML = docLinkHtml;\n",
              "          element.appendChild(docLink);\n",
              "        }\n",
              "      </script>\n",
              "    </div>\n",
              "  </div>\n",
              "  "
            ]
          },
          "metadata": {}
        },
        {
          "output_type": "stream",
          "name": "stdout",
          "text": [
            "Warning: total number of rows (479440) exceeds max_rows (20000). Limiting to first (20000) rows.\n"
          ]
        }
      ]
    },
    {
      "cell_type": "code",
      "source": [
        "# Calculate profit for maximum kelly criterion\n",
        "\n",
        "initial_wealth_kfm = 500\n",
        "wealth_kfm = []\n",
        "subset_kfm = subset\n",
        "starting_salary = initial_wealth_kfm * len(subset_kfm)\n",
        "for i in range(len(subset_kfm)):\n",
        "  if subset['place_bet'][i] == True: \n",
        "    if subset['kelly_frac_max'][i] == True: \n",
        "      if subset['home_win'][i] == True:\n",
        "      # bet won, wealth then gets increased by bet payout\n",
        "          wealth_kfm.append(initial_wealth_kfm * subset_kfm['kelly_criterion_percent'][i] * subset_kfm['max_odds_home_win'][i] + ( initial_wealth_kfm - (initial_wealth_kfm * subset_kfm['kelly_criterion_percent'][i])))\n",
        "      else:\n",
        "        wealth_kfm.append(initial_wealth_kfm - (initial_wealth_kfm * subset_kfm['kelly_criterion_percent'][i]))\n",
        "    else:\n",
        "        wealth_kfm.append(500)\n",
        "  else:\n",
        "    wealth_kfm.append(500)\n",
        "subset_kfm['wealth'] = wealth_kfm"
      ],
      "metadata": {
        "colab": {
          "base_uri": "https://localhost:8080/"
        },
        "id": "VnY_jxG_ue2S",
        "outputId": "9d84c5fc-4b16-4011-87e9-c10166417441"
      },
      "execution_count": 93,
      "outputs": [
        {
          "output_type": "stream",
          "name": "stderr",
          "text": [
            "<ipython-input-93-ed6720a3057d>:19: SettingWithCopyWarning: \n",
            "A value is trying to be set on a copy of a slice from a DataFrame.\n",
            "Try using .loc[row_indexer,col_indexer] = value instead\n",
            "\n",
            "See the caveats in the documentation: https://pandas.pydata.org/pandas-docs/stable/user_guide/indexing.html#returning-a-view-versus-a-copy\n",
            "  subset_kfm['wealth'] = wealth_kfm\n"
          ]
        }
      ]
    },
    {
      "cell_type": "code",
      "source": [
        "subset.plot(x='E(pi)', y='wealth', kind='scatter')\n",
        "plt.xlabel('Expected Payout (Percentage)')\n",
        "plt.ylabel('Profit from Game ($USD)')\n",
        "plt.title('The Kelly Fractional Percentage by Profit in a Game')\n",
        "plt.show()"
      ],
      "metadata": {
        "colab": {
          "base_uri": "https://localhost:8080/",
          "height": 472
        },
        "id": "8U_lI2X_wC_r",
        "outputId": "dfa9bee0-28fd-452c-b138-ac5e91a0e01c"
      },
      "execution_count": 107,
      "outputs": [
        {
          "output_type": "display_data",
          "data": {
            "text/plain": [
              "<Figure size 640x480 with 1 Axes>"
            ],
            "image/png": "[encoded data removed]"
          },
          "metadata": {}
        }
      ]
    },
    {
      "cell_type": "code",
      "source": [
        "subset = subset[subset['place_bet'] == True]\n",
        "subset"
      ],
      "metadata": {
        "colab": {
          "base_uri": "https://localhost:8080/",
          "height": 424
        },
        "id": "BnLImKpYrjPX",
        "outputId": "b295adfe-f385-4f86-8cc9-d94126978b2d"
      },
      "execution_count": 80,
      "outputs": [
        {
          "output_type": "execute_result",
          "data": {
            "text/plain": [
              "        match_id  home_score  away_score  max_odds_home_win  home_win  \\\n",
              "2         170090           1           0               2.00      True   \n",
              "20        170108           1           1               2.00     False   \n",
              "24        170112           2           1               1.74      True   \n",
              "36        170124           2           1               1.74      True   \n",
              "48        170136           0           2               2.00     False   \n",
              "...          ...         ...         ...                ...       ...   \n",
              "479422    876792           3           0               1.53      True   \n",
              "479425    876795           6           0               1.95      True   \n",
              "479426    876796           3           1               1.50      True   \n",
              "479435    876806           1           2               1.83     False   \n",
              "479438    876809           0           3              34.00     False   \n",
              "\n",
              "          p_cons  kelly_criterion_percent     E(pi)  place_bet      wealth  \\\n",
              "2       0.539898                 0.309848  0.011797       True  654.923874   \n",
              "20      0.534388                 0.301582  0.000776       True  349.209106   \n",
              "24      0.628496                 0.414988  0.034423       True  653.545548   \n",
              "36      0.618123                 0.398654  0.016375       True  647.502000   \n",
              "48      0.537634                 0.306452  0.007269       True  346.774194   \n",
              "...          ...                      ...       ...        ...         ...   \n",
              "479422  0.696573                 0.498254  0.013736       True  632.037435   \n",
              "479425  0.547495                 0.315441  0.001316       True  649.834699   \n",
              "479426  0.704573                 0.507621  0.005859       True  500.000000   \n",
              "479435  0.593895                 0.371979  0.024607       True  314.010334   \n",
              "479438  0.063636                 0.036096  0.007634       True  481.951901   \n",
              "\n",
              "        kelly_frac_max  \n",
              "2                 True  \n",
              "20                True  \n",
              "24                True  \n",
              "36                True  \n",
              "48                True  \n",
              "...                ...  \n",
              "479422            True  \n",
              "479425            True  \n",
              "479426           False  \n",
              "479435            True  \n",
              "479438            True  \n",
              "\n",
              "[131520 rows x 11 columns]"
            ],
            "text/html": [
              "\n",
              "  <div id=\"df-af0b5a85-332c-4754-b87c-a4f3531737da\">\n",
              "    <div class=\"colab-df-container\">\n",
              "      <div>\n",
              "<style scoped>\n",
              "    .dataframe tbody tr th:only-of-type {\n",
              "        vertical-align: middle;\n",
              "    }\n",
              "\n",
              "    .dataframe tbody tr th {\n",
              "        vertical-align: top;\n",
              "    }\n",
              "\n",
              "    .dataframe thead th {\n",
              "        text-align: right;\n",
              "    }\n",
              "</style>\n",
              "<table border=\"1\" class=\"dataframe\">\n",
              "  <thead>\n",
              "    <tr style=\"text-align: right;\">\n",
              "      <th></th>\n",
              "      <th>match_id</th>\n",
              "      <th>home_score</th>\n",
              "      <th>away_score</th>\n",
              "      <th>max_odds_home_win</th>\n",
              "      <th>home_win</th>\n",
              "      <th>p_cons</th>\n",
              "      <th>kelly_criterion_percent</th>\n",
              "      <th>E(pi)</th>\n",
              "      <th>place_bet</th>\n",
              "      <th>wealth</th>\n",
              "      <th>kelly_frac_max</th>\n",
              "    </tr>\n",
              "  </thead>\n",
              "  <tbody>\n",
              "    <tr>\n",
              "      <th>2</th>\n",
              "      <td>170090</td>\n",
              "      <td>1</td>\n",
              "      <td>0</td>\n",
              "      <td>2.00</td>\n",
              "      <td>True</td>\n",
              "      <td>0.539898</td>\n",
              "      <td>0.309848</td>\n",
              "      <td>0.011797</td>\n",
              "      <td>True</td>\n",
              "      <td>654.923874</td>\n",
              "      <td>True</td>\n",
              "    </tr>\n",
              "    <tr>\n",
              "      <th>20</th>\n",
              "      <td>170108</td>\n",
              "      <td>1</td>\n",
              "      <td>1</td>\n",
              "      <td>2.00</td>\n",
              "      <td>False</td>\n",
              "      <td>0.534388</td>\n",
              "      <td>0.301582</td>\n",
              "      <td>0.000776</td>\n",
              "      <td>True</td>\n",
              "      <td>349.209106</td>\n",
              "      <td>True</td>\n",
              "    </tr>\n",
              "    <tr>\n",
              "      <th>24</th>\n",
              "      <td>170112</td>\n",
              "      <td>2</td>\n",
              "      <td>1</td>\n",
              "      <td>1.74</td>\n",
              "      <td>True</td>\n",
              "      <td>0.628496</td>\n",
              "      <td>0.414988</td>\n",
              "      <td>0.034423</td>\n",
              "      <td>True</td>\n",
              "      <td>653.545548</td>\n",
              "      <td>True</td>\n",
              "    </tr>\n",
              "    <tr>\n",
              "      <th>36</th>\n",
              "      <td>170124</td>\n",
              "      <td>2</td>\n",
              "      <td>1</td>\n",
              "      <td>1.74</td>\n",
              "      <td>True</td>\n",
              "      <td>0.618123</td>\n",
              "      <td>0.398654</td>\n",
              "      <td>0.016375</td>\n",
              "      <td>True</td>\n",
              "      <td>647.502000</td>\n",
              "      <td>True</td>\n",
              "    </tr>\n",
              "    <tr>\n",
              "      <th>48</th>\n",
              "      <td>170136</td>\n",
              "      <td>0</td>\n",
              "      <td>2</td>\n",
              "      <td>2.00</td>\n",
              "      <td>False</td>\n",
              "      <td>0.537634</td>\n",
              "      <td>0.306452</td>\n",
              "      <td>0.007269</td>\n",
              "      <td>True</td>\n",
              "      <td>346.774194</td>\n",
              "      <td>True</td>\n",
              "    </tr>\n",
              "    <tr>\n",
              "      <th>...</th>\n",
              "      <td>...</td>\n",
              "      <td>...</td>\n",
              "      <td>...</td>\n",
              "      <td>...</td>\n",
              "      <td>...</td>\n",
              "      <td>...</td>\n",
              "      <td>...</td>\n",
              "      <td>...</td>\n",
              "      <td>...</td>\n",
              "      <td>...</td>\n",
              "      <td>...</td>\n",
              "    </tr>\n",
              "    <tr>\n",
              "      <th>479422</th>\n",
              "      <td>876792</td>\n",
              "      <td>3</td>\n",
              "      <td>0</td>\n",
              "      <td>1.53</td>\n",
              "      <td>True</td>\n",
              "      <td>0.696573</td>\n",
              "      <td>0.498254</td>\n",
              "      <td>0.013736</td>\n",
              "      <td>True</td>\n",
              "      <td>632.037435</td>\n",
              "      <td>True</td>\n",
              "    </tr>\n",
              "    <tr>\n",
              "      <th>479425</th>\n",
              "      <td>876795</td>\n",
              "      <td>6</td>\n",
              "      <td>0</td>\n",
              "      <td>1.95</td>\n",
              "      <td>True</td>\n",
              "      <td>0.547495</td>\n",
              "      <td>0.315441</td>\n",
              "      <td>0.001316</td>\n",
              "      <td>True</td>\n",
              "      <td>649.834699</td>\n",
              "      <td>True</td>\n",
              "    </tr>\n",
              "    <tr>\n",
              "      <th>479426</th>\n",
              "      <td>876796</td>\n",
              "      <td>3</td>\n",
              "      <td>1</td>\n",
              "      <td>1.50</td>\n",
              "      <td>True</td>\n",
              "      <td>0.704573</td>\n",
              "      <td>0.507621</td>\n",
              "      <td>0.005859</td>\n",
              "      <td>True</td>\n",
              "      <td>500.000000</td>\n",
              "      <td>False</td>\n",
              "    </tr>\n",
              "    <tr>\n",
              "      <th>479435</th>\n",
              "      <td>876806</td>\n",
              "      <td>1</td>\n",
              "      <td>2</td>\n",
              "      <td>1.83</td>\n",
              "      <td>False</td>\n",
              "      <td>0.593895</td>\n",
              "      <td>0.371979</td>\n",
              "      <td>0.024607</td>\n",
              "      <td>True</td>\n",
              "      <td>314.010334</td>\n",
              "      <td>True</td>\n",
              "    </tr>\n",
              "    <tr>\n",
              "      <th>479438</th>\n",
              "      <td>876809</td>\n",
              "      <td>0</td>\n",
              "      <td>3</td>\n",
              "      <td>34.00</td>\n",
              "      <td>False</td>\n",
              "      <td>0.063636</td>\n",
              "      <td>0.036096</td>\n",
              "      <td>0.007634</td>\n",
              "      <td>True</td>\n",
              "      <td>481.951901</td>\n",
              "      <td>True</td>\n",
              "    </tr>\n",
              "  </tbody>\n",
              "</table>\n",
              "<p>131520 rows × 11 columns</p>\n",
              "</div>\n",
              "      <button class=\"colab-df-convert\" onclick=\"convertToInteractive('df-af0b5a85-332c-4754-b87c-a4f3531737da')\"\n",
              "              title=\"Convert this dataframe to an interactive table.\"\n",
              "              style=\"display:none;\">\n",
              "        \n",
              "  <svg xmlns=\"http://www.w3.org/2000/svg\" height=\"24px\"viewBox=\"0 0 24 24\"\n",
              "       width=\"24px\">\n",
              "    <path d=\"M0 0h24v24H0V0z\" fill=\"none\"/>\n",
              "    <path d=\"M18.56 5.44l.94 2.06.94-2.06 2.06-.94-2.06-.94-.94-2.06-.94 2.06-2.06.94zm-11 1L8.5 8.5l.94-2.06 2.06-.94-2.06-.94L8.5 2.5l-.94 2.06-2.06.94zm10 10l.94 2.06.94-2.06 2.06-.94-2.06-.94-.94-2.06-.94 2.06-2.06.94z\"/><path d=\"M17.41 7.96l-1.37-1.37c-.4-.4-.92-.59-1.43-.59-.52 0-1.04.2-1.43.59L10.3 9.45l-7.72 7.72c-.78.78-.78 2.05 0 2.83L4 21.41c.39.39.9.59 1.41.59.51 0 1.02-.2 1.41-.59l7.78-7.78 2.81-2.81c.8-.78.8-2.07 0-2.86zM5.41 20L4 18.59l7.72-7.72 1.47 1.35L5.41 20z\"/>\n",
              "  </svg>\n",
              "      </button>\n",
              "      \n",
              "  <style>\n",
              "    .colab-df-container {\n",
              "      display:flex;\n",
              "      flex-wrap:wrap;\n",
              "      gap: 12px;\n",
              "    }\n",
              "\n",
              "    .colab-df-convert {\n",
              "      background-color: #E8F0FE;\n",
              "      border: none;\n",
              "      border-radius: 50%;\n",
              "      cursor: pointer;\n",
              "      display: none;\n",
              "      fill: #1967D2;\n",
              "      height: 32px;\n",
              "      padding: 0 0 0 0;\n",
              "      width: 32px;\n",
              "    }\n",
              "\n",
              "    .colab-df-convert:hover {\n",
              "      background-color: #E2EBFA;\n",
              "      box-shadow: 0px 1px 2px rgba(60, 64, 67, 0.3), 0px 1px 3px 1px rgba(60, 64, 67, 0.15);\n",
              "      fill: #174EA6;\n",
              "    }\n",
              "\n",
              "    [theme=dark] .colab-df-convert {\n",
              "      background-color: #3B4455;\n",
              "      fill: #D2E3FC;\n",
              "    }\n",
              "\n",
              "    [theme=dark] .colab-df-convert:hover {\n",
              "      background-color: #434B5C;\n",
              "      box-shadow: 0px 1px 3px 1px rgba(0, 0, 0, 0.15);\n",
              "      filter: drop-shadow(0px 1px 2px rgba(0, 0, 0, 0.3));\n",
              "      fill: #FFFFFF;\n",
              "    }\n",
              "  </style>\n",
              "\n",
              "      <script>\n",
              "        const buttonEl =\n",
              "          document.querySelector('#df-af0b5a85-332c-4754-b87c-a4f3531737da button.colab-df-convert');\n",
              "        buttonEl.style.display =\n",
              "          google.colab.kernel.accessAllowed ? 'block' : 'none';\n",
              "\n",
              "        async function convertToInteractive(key) {\n",
              "          const element = document.querySelector('#df-af0b5a85-332c-4754-b87c-a4f3531737da');\n",
              "          const dataTable =\n",
              "            await google.colab.kernel.invokeFunction('convertToInteractive',\n",
              "                                                     [key], {});\n",
              "          if (!dataTable) return;\n",
              "\n",
              "          const docLinkHtml = 'Like what you see? Visit the ' +\n",
              "            '<a target=\"_blank\" href=https://colab.research.google.com/notebooks/data_table.ipynb>data table notebook</a>'\n",
              "            + ' to learn more about interactive tables.';\n",
              "          element.innerHTML = '';\n",
              "          dataTable['output_type'] = 'display_data';\n",
              "          await google.colab.output.renderOutput(dataTable, element);\n",
              "          const docLink = document.createElement('div');\n",
              "          docLink.innerHTML = docLinkHtml;\n",
              "          element.appendChild(docLink);\n",
              "        }\n",
              "      </script>\n",
              "    </div>\n",
              "  </div>\n",
              "  "
            ]
          },
          "metadata": {},
          "execution_count": 80
        }
      ]
    },
    {
      "cell_type": "code",
      "source": [
        "print(sum(subset_kfm['wealth']) - starting_salary)\n",
        "true_count_kelly_max = subset.kelly_frac_max.sum()\n",
        "print(true_count_kelly_max)"
      ],
      "metadata": {
        "colab": {
          "base_uri": "https://localhost:8080/"
        },
        "id": "H58UT5DNv7xd",
        "outputId": "6f69285a-4034-441f-afcb-b741ac1f2203"
      },
      "execution_count": 52,
      "outputs": [
        {
          "output_type": "stream",
          "name": "stdout",
          "text": [
            "169113.72534826398\n",
            "113596\n"
          ]
        }
      ]
    },
    {
      "cell_type": "code",
      "source": [],
      "metadata": {
        "id": "Z8Aviv-svqwk"
      },
      "execution_count": null,
      "outputs": []
    }
  ]
}